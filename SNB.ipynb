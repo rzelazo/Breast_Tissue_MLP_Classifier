{
 "cells": [
  {
   "cell_type": "code",
   "execution_count": 1,
   "id": "266bc5fc-1c4c-40fd-8a8d-80dbd9d5daa3",
   "metadata": {
    "pycharm": {
     "name": "#%%\n"
    }
   },
   "outputs": [],
   "source": [
    "import pandas as pd\n",
    "import numpy as np\n",
    "from numpy import ndarray\n",
    "from matplotlib import pyplot as plt\n",
    "import seaborn as sns"
   ]
  },
  {
   "cell_type": "code",
   "execution_count": 2,
   "id": "d6357e8e-a5ff-4af4-aa03-e3d9dc9b7393",
   "metadata": {
    "pycharm": {
     "name": "#%%\n"
    }
   },
   "outputs": [],
   "source": [
    "sns.set_theme()"
   ]
  },
  {
   "cell_type": "code",
   "execution_count": 3,
   "id": "e8784f1e-ec94-48c5-a11f-e3d2671d19bf",
   "metadata": {
    "pycharm": {
     "name": "#%%\n"
    }
   },
   "outputs": [],
   "source": [
    "data_source = r\".\\Breast Tissue_MLR\\BreastTissue.xls\"\n",
    "data = pd.read_excel(data_source,\n",
    "                     sheet_name=\"Data\", header=0, index_col=0)"
   ]
  },
  {
   "cell_type": "code",
   "execution_count": 4,
   "id": "62ecc521-28cd-4cf3-b2a5-72780c5ae5e6",
   "metadata": {
    "pycharm": {
     "name": "#%%\n"
    }
   },
   "outputs": [
    {
     "data": {
      "text/html": [
       "<div>\n",
       "<style scoped>\n",
       "    .dataframe tbody tr th:only-of-type {\n",
       "        vertical-align: middle;\n",
       "    }\n",
       "\n",
       "    .dataframe tbody tr th {\n",
       "        vertical-align: top;\n",
       "    }\n",
       "\n",
       "    .dataframe thead th {\n",
       "        text-align: right;\n",
       "    }\n",
       "</style>\n",
       "<table border=\"1\" class=\"dataframe\">\n",
       "  <thead>\n",
       "    <tr style=\"text-align: right;\">\n",
       "      <th></th>\n",
       "      <th>Class</th>\n",
       "      <th>I0</th>\n",
       "      <th>PA500</th>\n",
       "      <th>HFS</th>\n",
       "      <th>DA</th>\n",
       "      <th>Area</th>\n",
       "      <th>A/DA</th>\n",
       "      <th>Max IP</th>\n",
       "      <th>DR</th>\n",
       "      <th>P</th>\n",
       "    </tr>\n",
       "    <tr>\n",
       "      <th>Case #</th>\n",
       "      <th></th>\n",
       "      <th></th>\n",
       "      <th></th>\n",
       "      <th></th>\n",
       "      <th></th>\n",
       "      <th></th>\n",
       "      <th></th>\n",
       "      <th></th>\n",
       "      <th></th>\n",
       "      <th></th>\n",
       "    </tr>\n",
       "  </thead>\n",
       "  <tbody>\n",
       "    <tr>\n",
       "      <th>1</th>\n",
       "      <td>car</td>\n",
       "      <td>524.794072</td>\n",
       "      <td>0.187448</td>\n",
       "      <td>0.032114</td>\n",
       "      <td>228.800228</td>\n",
       "      <td>6843.598481</td>\n",
       "      <td>29.910803</td>\n",
       "      <td>60.204880</td>\n",
       "      <td>220.737212</td>\n",
       "      <td>556.828334</td>\n",
       "    </tr>\n",
       "    <tr>\n",
       "      <th>2</th>\n",
       "      <td>car</td>\n",
       "      <td>330.000000</td>\n",
       "      <td>0.226893</td>\n",
       "      <td>0.265290</td>\n",
       "      <td>121.154201</td>\n",
       "      <td>3163.239472</td>\n",
       "      <td>26.109202</td>\n",
       "      <td>69.717361</td>\n",
       "      <td>99.084964</td>\n",
       "      <td>400.225776</td>\n",
       "    </tr>\n",
       "    <tr>\n",
       "      <th>3</th>\n",
       "      <td>car</td>\n",
       "      <td>551.879287</td>\n",
       "      <td>0.232478</td>\n",
       "      <td>0.063530</td>\n",
       "      <td>264.804935</td>\n",
       "      <td>11888.391827</td>\n",
       "      <td>44.894903</td>\n",
       "      <td>77.793297</td>\n",
       "      <td>253.785300</td>\n",
       "      <td>656.769449</td>\n",
       "    </tr>\n",
       "    <tr>\n",
       "      <th>4</th>\n",
       "      <td>car</td>\n",
       "      <td>380.000000</td>\n",
       "      <td>0.240855</td>\n",
       "      <td>0.286234</td>\n",
       "      <td>137.640111</td>\n",
       "      <td>5402.171180</td>\n",
       "      <td>39.248524</td>\n",
       "      <td>88.758446</td>\n",
       "      <td>105.198568</td>\n",
       "      <td>493.701814</td>\n",
       "    </tr>\n",
       "    <tr>\n",
       "      <th>5</th>\n",
       "      <td>car</td>\n",
       "      <td>362.831266</td>\n",
       "      <td>0.200713</td>\n",
       "      <td>0.244346</td>\n",
       "      <td>124.912559</td>\n",
       "      <td>3290.462446</td>\n",
       "      <td>26.342127</td>\n",
       "      <td>69.389389</td>\n",
       "      <td>103.866552</td>\n",
       "      <td>424.796503</td>\n",
       "    </tr>\n",
       "    <tr>\n",
       "      <th>...</th>\n",
       "      <td>...</td>\n",
       "      <td>...</td>\n",
       "      <td>...</td>\n",
       "      <td>...</td>\n",
       "      <td>...</td>\n",
       "      <td>...</td>\n",
       "      <td>...</td>\n",
       "      <td>...</td>\n",
       "      <td>...</td>\n",
       "      <td>...</td>\n",
       "    </tr>\n",
       "    <tr>\n",
       "      <th>102</th>\n",
       "      <td>adi</td>\n",
       "      <td>2000.000000</td>\n",
       "      <td>0.106989</td>\n",
       "      <td>0.105418</td>\n",
       "      <td>520.222649</td>\n",
       "      <td>40087.920984</td>\n",
       "      <td>77.059161</td>\n",
       "      <td>204.090347</td>\n",
       "      <td>478.517223</td>\n",
       "      <td>2088.648870</td>\n",
       "    </tr>\n",
       "    <tr>\n",
       "      <th>103</th>\n",
       "      <td>adi</td>\n",
       "      <td>2600.000000</td>\n",
       "      <td>0.200538</td>\n",
       "      <td>0.208043</td>\n",
       "      <td>1063.441427</td>\n",
       "      <td>174480.476218</td>\n",
       "      <td>164.071543</td>\n",
       "      <td>418.687286</td>\n",
       "      <td>977.552367</td>\n",
       "      <td>2664.583623</td>\n",
       "    </tr>\n",
       "    <tr>\n",
       "      <th>104</th>\n",
       "      <td>adi</td>\n",
       "      <td>1600.000000</td>\n",
       "      <td>0.071908</td>\n",
       "      <td>-0.066323</td>\n",
       "      <td>436.943603</td>\n",
       "      <td>12655.342135</td>\n",
       "      <td>28.963331</td>\n",
       "      <td>103.732704</td>\n",
       "      <td>432.129749</td>\n",
       "      <td>1475.371534</td>\n",
       "    </tr>\n",
       "    <tr>\n",
       "      <th>105</th>\n",
       "      <td>adi</td>\n",
       "      <td>2300.000000</td>\n",
       "      <td>0.045029</td>\n",
       "      <td>0.136834</td>\n",
       "      <td>185.446044</td>\n",
       "      <td>5086.292497</td>\n",
       "      <td>27.427344</td>\n",
       "      <td>178.691742</td>\n",
       "      <td>49.593290</td>\n",
       "      <td>2480.592151</td>\n",
       "    </tr>\n",
       "    <tr>\n",
       "      <th>106</th>\n",
       "      <td>adi</td>\n",
       "      <td>2600.000000</td>\n",
       "      <td>0.069988</td>\n",
       "      <td>0.048869</td>\n",
       "      <td>745.474369</td>\n",
       "      <td>39845.773698</td>\n",
       "      <td>53.450226</td>\n",
       "      <td>154.122604</td>\n",
       "      <td>729.368395</td>\n",
       "      <td>2545.419744</td>\n",
       "    </tr>\n",
       "  </tbody>\n",
       "</table>\n",
       "<p>106 rows × 10 columns</p>\n",
       "</div>"
      ],
      "text/plain": [
       "       Class           I0     PA500       HFS           DA           Area  \\\n",
       "Case #                                                                      \n",
       "1        car   524.794072  0.187448  0.032114   228.800228    6843.598481   \n",
       "2        car   330.000000  0.226893  0.265290   121.154201    3163.239472   \n",
       "3        car   551.879287  0.232478  0.063530   264.804935   11888.391827   \n",
       "4        car   380.000000  0.240855  0.286234   137.640111    5402.171180   \n",
       "5        car   362.831266  0.200713  0.244346   124.912559    3290.462446   \n",
       "...      ...          ...       ...       ...          ...            ...   \n",
       "102      adi  2000.000000  0.106989  0.105418   520.222649   40087.920984   \n",
       "103      adi  2600.000000  0.200538  0.208043  1063.441427  174480.476218   \n",
       "104      adi  1600.000000  0.071908 -0.066323   436.943603   12655.342135   \n",
       "105      adi  2300.000000  0.045029  0.136834   185.446044    5086.292497   \n",
       "106      adi  2600.000000  0.069988  0.048869   745.474369   39845.773698   \n",
       "\n",
       "              A/DA      Max IP          DR            P  \n",
       "Case #                                                   \n",
       "1        29.910803   60.204880  220.737212   556.828334  \n",
       "2        26.109202   69.717361   99.084964   400.225776  \n",
       "3        44.894903   77.793297  253.785300   656.769449  \n",
       "4        39.248524   88.758446  105.198568   493.701814  \n",
       "5        26.342127   69.389389  103.866552   424.796503  \n",
       "...            ...         ...         ...          ...  \n",
       "102      77.059161  204.090347  478.517223  2088.648870  \n",
       "103     164.071543  418.687286  977.552367  2664.583623  \n",
       "104      28.963331  103.732704  432.129749  1475.371534  \n",
       "105      27.427344  178.691742   49.593290  2480.592151  \n",
       "106      53.450226  154.122604  729.368395  2545.419744  \n",
       "\n",
       "[106 rows x 10 columns]"
      ]
     },
     "execution_count": 4,
     "metadata": {},
     "output_type": "execute_result"
    }
   ],
   "source": [
    "data"
   ]
  },
  {
   "cell_type": "code",
   "execution_count": 5,
   "id": "6600037c-65b2-4836-8c51-0f7407e74356",
   "metadata": {
    "pycharm": {
     "name": "#%%\n"
    }
   },
   "outputs": [
    {
     "name": "stdout",
     "output_type": "stream",
     "text": [
      "Mean values for all classes of tissue:\n"
     ]
    },
    {
     "data": {
      "text/plain": [
       "I0         784.251618\n",
       "PA500        0.120133\n",
       "HFS          0.114691\n",
       "DA         190.568642\n",
       "Area      7335.155162\n",
       "A/DA        23.473784\n",
       "Max IP      75.381258\n",
       "DR         166.710575\n",
       "P          810.638127\n",
       "dtype: float64"
      ]
     },
     "execution_count": 5,
     "metadata": {},
     "output_type": "execute_result"
    }
   ],
   "source": [
    "print(\"Mean values for all classes of tissue:\")\n",
    "data.iloc[:, 1:].mean()"
   ]
  },
  {
   "cell_type": "code",
   "execution_count": 6,
   "id": "e9f88c91-9816-4708-8a57-805184449bef",
   "metadata": {
    "pycharm": {
     "name": "#%%\n"
    }
   },
   "outputs": [
    {
     "name": "stdout",
     "output_type": "stream",
     "text": [
      "Mean values for Carcinoma tissue:\n"
     ]
    },
    {
     "data": {
      "text/plain": [
       "I0         394.232013\n",
       "PA500        0.219853\n",
       "HFS          0.184340\n",
       "DA         168.271163\n",
       "Area      5723.121373\n",
       "A/DA        32.046327\n",
       "Max IP      64.531520\n",
       "DR         153.007986\n",
       "P          479.972602\n",
       "dtype: float64"
      ]
     },
     "execution_count": 6,
     "metadata": {},
     "output_type": "execute_result"
    }
   ],
   "source": [
    "print(\"Mean values for Carcinoma tissue:\")\n",
    "data[data[\"Class\"] == \"car\"].iloc[:, 1:].mean()"
   ]
  },
  {
   "cell_type": "code",
   "execution_count": 7,
   "id": "d055a184-9735-43a0-a16b-725e66ebeb95",
   "metadata": {
    "pycharm": {
     "name": "#%%\n"
    }
   },
   "outputs": [
    {
     "name": "stdout",
     "output_type": "stream",
     "text": [
      "Mean values for Glandular tissue:\n"
     ]
    },
    {
     "data": {
      "text/plain": [
       "I0        238.316150\n",
       "PA500       0.116948\n",
       "HFS         0.095862\n",
       "DA         40.351416\n",
       "Area      411.663501\n",
       "A/DA        7.846327\n",
       "Max IP     26.350228\n",
       "DR         27.501611\n",
       "P         261.502774\n",
       "dtype: float64"
      ]
     },
     "execution_count": 7,
     "metadata": {},
     "output_type": "execute_result"
    }
   ],
   "source": [
    "print(\"Mean values for Glandular tissue:\")\n",
    "data[data[\"Class\"] == \"gla\"].iloc[:, 1:].mean()"
   ]
  },
  {
   "cell_type": "code",
   "execution_count": 8,
   "id": "3811fc0d-9e7a-4e9f-aa13-47b897de1d3e",
   "metadata": {
    "pycharm": {
     "name": "#%%\n"
    }
   },
   "outputs": [
    {
     "name": "stdout",
     "output_type": "stream",
     "text": [
      "Mean values for Connective tissue:\n"
     ]
    },
    {
     "data": {
      "text/plain": [
       "I0        1212.864344\n",
       "PA500        0.070218\n",
       "HFS          0.052235\n",
       "DA         367.985832\n",
       "Area      5324.571200\n",
       "A/DA        13.997809\n",
       "Max IP      72.957969\n",
       "DR         357.982419\n",
       "P         1064.992919\n",
       "dtype: float64"
      ]
     },
     "execution_count": 8,
     "metadata": {},
     "output_type": "execute_result"
    }
   ],
   "source": [
    "print(\"Mean values for Connective tissue:\")\n",
    "data[data[\"Class\"] == \"con\"].iloc[:, 1:].mean()"
   ]
  },
  {
   "cell_type": "markdown",
   "id": "6792e467-66e9-452d-a90c-da409c40373a",
   "metadata": {
    "pycharm": {
     "name": "#%% md\n"
    }
   },
   "source": [
    "### Średnie wartości cech w poszczególnych klasach"
   ]
  },
  {
   "cell_type": "code",
   "execution_count": 9,
   "id": "b6841692-b0b4-48e7-8d08-086a13b7cdad",
   "metadata": {
    "pycharm": {
     "name": "#%%\n"
    }
   },
   "outputs": [
    {
     "data": {
      "text/html": [
       "<div>\n",
       "<style scoped>\n",
       "    .dataframe tbody tr th:only-of-type {\n",
       "        vertical-align: middle;\n",
       "    }\n",
       "\n",
       "    .dataframe tbody tr th {\n",
       "        vertical-align: top;\n",
       "    }\n",
       "\n",
       "    .dataframe thead th {\n",
       "        text-align: right;\n",
       "    }\n",
       "</style>\n",
       "<table border=\"1\" class=\"dataframe\">\n",
       "  <thead>\n",
       "    <tr style=\"text-align: right;\">\n",
       "      <th></th>\n",
       "      <th>I0</th>\n",
       "      <th>PA500</th>\n",
       "      <th>HFS</th>\n",
       "      <th>DA</th>\n",
       "      <th>Area</th>\n",
       "      <th>A/DA</th>\n",
       "      <th>Max IP</th>\n",
       "      <th>DR</th>\n",
       "      <th>P</th>\n",
       "    </tr>\n",
       "    <tr>\n",
       "      <th>Class</th>\n",
       "      <th></th>\n",
       "      <th></th>\n",
       "      <th></th>\n",
       "      <th></th>\n",
       "      <th></th>\n",
       "      <th></th>\n",
       "      <th></th>\n",
       "      <th></th>\n",
       "      <th></th>\n",
       "    </tr>\n",
       "  </thead>\n",
       "  <tbody>\n",
       "    <tr>\n",
       "      <th>adi</th>\n",
       "      <td>2052.0503</td>\n",
       "      <td>0.0736</td>\n",
       "      <td>0.1344</td>\n",
       "      <td>396.9972</td>\n",
       "      <td>24889.7428</td>\n",
       "      <td>50.7758</td>\n",
       "      <td>194.5973</td>\n",
       "      <td>324.7147</td>\n",
       "      <td>2138.7537</td>\n",
       "    </tr>\n",
       "    <tr>\n",
       "      <th>car</th>\n",
       "      <td>394.2320</td>\n",
       "      <td>0.2199</td>\n",
       "      <td>0.1843</td>\n",
       "      <td>168.2712</td>\n",
       "      <td>5723.1214</td>\n",
       "      <td>32.0463</td>\n",
       "      <td>64.5315</td>\n",
       "      <td>153.0080</td>\n",
       "      <td>479.9726</td>\n",
       "    </tr>\n",
       "    <tr>\n",
       "      <th>con</th>\n",
       "      <td>1212.8643</td>\n",
       "      <td>0.0702</td>\n",
       "      <td>0.0522</td>\n",
       "      <td>367.9858</td>\n",
       "      <td>5324.5712</td>\n",
       "      <td>13.9978</td>\n",
       "      <td>72.9580</td>\n",
       "      <td>357.9824</td>\n",
       "      <td>1064.9929</td>\n",
       "    </tr>\n",
       "    <tr>\n",
       "      <th>fad</th>\n",
       "      <td>245.8626</td>\n",
       "      <td>0.0953</td>\n",
       "      <td>0.0707</td>\n",
       "      <td>54.3911</td>\n",
       "      <td>610.1829</td>\n",
       "      <td>10.0132</td>\n",
       "      <td>22.9741</td>\n",
       "      <td>47.8447</td>\n",
       "      <td>268.8740</td>\n",
       "    </tr>\n",
       "    <tr>\n",
       "      <th>gla</th>\n",
       "      <td>238.3162</td>\n",
       "      <td>0.1169</td>\n",
       "      <td>0.0959</td>\n",
       "      <td>40.3514</td>\n",
       "      <td>411.6635</td>\n",
       "      <td>7.8463</td>\n",
       "      <td>26.3502</td>\n",
       "      <td>27.5016</td>\n",
       "      <td>261.5028</td>\n",
       "    </tr>\n",
       "    <tr>\n",
       "      <th>mas</th>\n",
       "      <td>290.3108</td>\n",
       "      <td>0.1231</td>\n",
       "      <td>0.1114</td>\n",
       "      <td>73.2973</td>\n",
       "      <td>1082.3999</td>\n",
       "      <td>12.5817</td>\n",
       "      <td>31.4714</td>\n",
       "      <td>63.6100</td>\n",
       "      <td>314.9211</td>\n",
       "    </tr>\n",
       "  </tbody>\n",
       "</table>\n",
       "</div>"
      ],
      "text/plain": [
       "              I0   PA500     HFS        DA        Area     A/DA    Max IP  \\\n",
       "Class                                                                       \n",
       "adi    2052.0503  0.0736  0.1344  396.9972  24889.7428  50.7758  194.5973   \n",
       "car     394.2320  0.2199  0.1843  168.2712   5723.1214  32.0463   64.5315   \n",
       "con    1212.8643  0.0702  0.0522  367.9858   5324.5712  13.9978   72.9580   \n",
       "fad     245.8626  0.0953  0.0707   54.3911    610.1829  10.0132   22.9741   \n",
       "gla     238.3162  0.1169  0.0959   40.3514    411.6635   7.8463   26.3502   \n",
       "mas     290.3108  0.1231  0.1114   73.2973   1082.3999  12.5817   31.4714   \n",
       "\n",
       "             DR          P  \n",
       "Class                       \n",
       "adi    324.7147  2138.7537  \n",
       "car    153.0080   479.9726  \n",
       "con    357.9824  1064.9929  \n",
       "fad     47.8447   268.8740  \n",
       "gla     27.5016   261.5028  \n",
       "mas     63.6100   314.9211  "
      ]
     },
     "execution_count": 9,
     "metadata": {},
     "output_type": "execute_result"
    }
   ],
   "source": [
    "means = data.groupby([\"Class\"]).mean()\n",
    "means.round(4)"
   ]
  },
  {
   "cell_type": "code",
   "execution_count": null,
   "id": "f203188b-cc91-462c-b867-f4522b7b7bda",
   "metadata": {
    "pycharm": {
     "name": "#%%\n"
    }
   },
   "outputs": [],
   "source": []
  },
  {
   "cell_type": "markdown",
   "id": "1a2f3b10-aa05-4815-8747-83ecffdb2eef",
   "metadata": {
    "pycharm": {
     "name": "#%% md\n"
    }
   },
   "source": [
    "### Odchylenie standardowe cech w poszczególnych klasach"
   ]
  },
  {
   "cell_type": "code",
   "execution_count": 10,
   "id": "40cf3e84-0728-463a-8f0f-b81130ebe983",
   "metadata": {
    "pycharm": {
     "name": "#%%\n"
    }
   },
   "outputs": [
    {
     "data": {
      "text/html": [
       "<div>\n",
       "<style scoped>\n",
       "    .dataframe tbody tr th:only-of-type {\n",
       "        vertical-align: middle;\n",
       "    }\n",
       "\n",
       "    .dataframe tbody tr th {\n",
       "        vertical-align: top;\n",
       "    }\n",
       "\n",
       "    .dataframe thead th {\n",
       "        text-align: right;\n",
       "    }\n",
       "</style>\n",
       "<table border=\"1\" class=\"dataframe\">\n",
       "  <thead>\n",
       "    <tr style=\"text-align: right;\">\n",
       "      <th></th>\n",
       "      <th>I0</th>\n",
       "      <th>PA500</th>\n",
       "      <th>HFS</th>\n",
       "      <th>DA</th>\n",
       "      <th>Area</th>\n",
       "      <th>A/DA</th>\n",
       "      <th>Max IP</th>\n",
       "      <th>DR</th>\n",
       "      <th>P</th>\n",
       "    </tr>\n",
       "    <tr>\n",
       "      <th>Class</th>\n",
       "      <th></th>\n",
       "      <th></th>\n",
       "      <th></th>\n",
       "      <th></th>\n",
       "      <th></th>\n",
       "      <th></th>\n",
       "      <th></th>\n",
       "      <th></th>\n",
       "      <th></th>\n",
       "    </tr>\n",
       "  </thead>\n",
       "  <tbody>\n",
       "    <tr>\n",
       "      <th>adi</th>\n",
       "      <td>342.4865</td>\n",
       "      <td>0.0371</td>\n",
       "      <td>0.1150</td>\n",
       "      <td>220.6748</td>\n",
       "      <td>35695.2982</td>\n",
       "      <td>33.9328</td>\n",
       "      <td>106.5599</td>\n",
       "      <td>230.3635</td>\n",
       "      <td>386.5093</td>\n",
       "    </tr>\n",
       "    <tr>\n",
       "      <th>car</th>\n",
       "      <td>87.0457</td>\n",
       "      <td>0.0508</td>\n",
       "      <td>0.1133</td>\n",
       "      <td>62.8661</td>\n",
       "      <td>3172.2619</td>\n",
       "      <td>9.2804</td>\n",
       "      <td>18.5846</td>\n",
       "      <td>67.0207</td>\n",
       "      <td>93.1869</td>\n",
       "    </tr>\n",
       "    <tr>\n",
       "      <th>con</th>\n",
       "      <td>386.4724</td>\n",
       "      <td>0.0268</td>\n",
       "      <td>0.0463</td>\n",
       "      <td>176.1754</td>\n",
       "      <td>4069.2279</td>\n",
       "      <td>10.7724</td>\n",
       "      <td>34.4540</td>\n",
       "      <td>179.5508</td>\n",
       "      <td>356.0655</td>\n",
       "    </tr>\n",
       "    <tr>\n",
       "      <th>fad</th>\n",
       "      <td>69.7613</td>\n",
       "      <td>0.0529</td>\n",
       "      <td>0.0481</td>\n",
       "      <td>20.6592</td>\n",
       "      <td>430.6137</td>\n",
       "      <td>5.0248</td>\n",
       "      <td>10.9280</td>\n",
       "      <td>22.2608</td>\n",
       "      <td>74.6163</td>\n",
       "    </tr>\n",
       "    <tr>\n",
       "      <th>gla</th>\n",
       "      <td>119.1858</td>\n",
       "      <td>0.0344</td>\n",
       "      <td>0.0704</td>\n",
       "      <td>31.0628</td>\n",
       "      <td>632.7631</td>\n",
       "      <td>4.7101</td>\n",
       "      <td>7.1785</td>\n",
       "      <td>33.2079</td>\n",
       "      <td>121.4705</td>\n",
       "    </tr>\n",
       "    <tr>\n",
       "      <th>mas</th>\n",
       "      <td>111.9575</td>\n",
       "      <td>0.0522</td>\n",
       "      <td>0.1110</td>\n",
       "      <td>35.6172</td>\n",
       "      <td>1254.0518</td>\n",
       "      <td>8.4503</td>\n",
       "      <td>10.7493</td>\n",
       "      <td>39.2177</td>\n",
       "      <td>112.2945</td>\n",
       "    </tr>\n",
       "  </tbody>\n",
       "</table>\n",
       "</div>"
      ],
      "text/plain": [
       "             I0   PA500     HFS        DA        Area     A/DA    Max IP  \\\n",
       "Class                                                                      \n",
       "adi    342.4865  0.0371  0.1150  220.6748  35695.2982  33.9328  106.5599   \n",
       "car     87.0457  0.0508  0.1133   62.8661   3172.2619   9.2804   18.5846   \n",
       "con    386.4724  0.0268  0.0463  176.1754   4069.2279  10.7724   34.4540   \n",
       "fad     69.7613  0.0529  0.0481   20.6592    430.6137   5.0248   10.9280   \n",
       "gla    119.1858  0.0344  0.0704   31.0628    632.7631   4.7101    7.1785   \n",
       "mas    111.9575  0.0522  0.1110   35.6172   1254.0518   8.4503   10.7493   \n",
       "\n",
       "             DR         P  \n",
       "Class                      \n",
       "adi    230.3635  386.5093  \n",
       "car     67.0207   93.1869  \n",
       "con    179.5508  356.0655  \n",
       "fad     22.2608   74.6163  \n",
       "gla     33.2079  121.4705  \n",
       "mas     39.2177  112.2945  "
      ]
     },
     "execution_count": 10,
     "metadata": {},
     "output_type": "execute_result"
    }
   ],
   "source": [
    "stds = data.groupby([\"Class\"]).std()\n",
    "stds.round(4)"
   ]
  },
  {
   "cell_type": "markdown",
   "id": "39efd72d-9fb4-40e9-9ec0-6631382f1aca",
   "metadata": {
    "pycharm": {
     "name": "#%% md\n"
    }
   },
   "source": [
    "### Stosunki sygnał/szum"
   ]
  },
  {
   "cell_type": "code",
   "execution_count": 11,
   "id": "9873a908-2bc3-485d-b949-773dacde4b15",
   "metadata": {
    "pycharm": {
     "name": "#%%\n"
    }
   },
   "outputs": [
    {
     "data": {
      "text/html": [
       "<div>\n",
       "<style scoped>\n",
       "    .dataframe tbody tr th:only-of-type {\n",
       "        vertical-align: middle;\n",
       "    }\n",
       "\n",
       "    .dataframe tbody tr th {\n",
       "        vertical-align: top;\n",
       "    }\n",
       "\n",
       "    .dataframe thead th {\n",
       "        text-align: right;\n",
       "    }\n",
       "</style>\n",
       "<table border=\"1\" class=\"dataframe\">\n",
       "  <thead>\n",
       "    <tr style=\"text-align: right;\">\n",
       "      <th></th>\n",
       "      <th>I0</th>\n",
       "      <th>PA500</th>\n",
       "      <th>HFS</th>\n",
       "      <th>DA</th>\n",
       "      <th>Area</th>\n",
       "      <th>A/DA</th>\n",
       "      <th>Max IP</th>\n",
       "      <th>DR</th>\n",
       "      <th>P</th>\n",
       "    </tr>\n",
       "    <tr>\n",
       "      <th>Class</th>\n",
       "      <th></th>\n",
       "      <th></th>\n",
       "      <th></th>\n",
       "      <th></th>\n",
       "      <th></th>\n",
       "      <th></th>\n",
       "      <th></th>\n",
       "      <th></th>\n",
       "      <th></th>\n",
       "    </tr>\n",
       "  </thead>\n",
       "  <tbody>\n",
       "    <tr>\n",
       "      <th>adi</th>\n",
       "      <td>5.991624</td>\n",
       "      <td>1.981191</td>\n",
       "      <td>1.168190</td>\n",
       "      <td>1.799015</td>\n",
       "      <td>0.697284</td>\n",
       "      <td>1.496365</td>\n",
       "      <td>1.826177</td>\n",
       "      <td>1.409575</td>\n",
       "      <td>5.533511</td>\n",
       "    </tr>\n",
       "    <tr>\n",
       "      <th>car</th>\n",
       "      <td>4.529022</td>\n",
       "      <td>4.326409</td>\n",
       "      <td>1.627298</td>\n",
       "      <td>2.676660</td>\n",
       "      <td>1.804114</td>\n",
       "      <td>3.453135</td>\n",
       "      <td>3.472305</td>\n",
       "      <td>2.282995</td>\n",
       "      <td>5.150643</td>\n",
       "    </tr>\n",
       "    <tr>\n",
       "      <th>con</th>\n",
       "      <td>3.138295</td>\n",
       "      <td>2.619183</td>\n",
       "      <td>1.129022</td>\n",
       "      <td>2.088748</td>\n",
       "      <td>1.308497</td>\n",
       "      <td>1.299419</td>\n",
       "      <td>2.117544</td>\n",
       "      <td>1.993766</td>\n",
       "      <td>2.991003</td>\n",
       "    </tr>\n",
       "    <tr>\n",
       "      <th>fad</th>\n",
       "      <td>3.524342</td>\n",
       "      <td>1.802278</td>\n",
       "      <td>1.469851</td>\n",
       "      <td>2.632784</td>\n",
       "      <td>1.417008</td>\n",
       "      <td>1.992760</td>\n",
       "      <td>2.102318</td>\n",
       "      <td>2.149276</td>\n",
       "      <td>3.603421</td>\n",
       "    </tr>\n",
       "    <tr>\n",
       "      <th>gla</th>\n",
       "      <td>1.999534</td>\n",
       "      <td>3.401648</td>\n",
       "      <td>1.361094</td>\n",
       "      <td>1.299028</td>\n",
       "      <td>0.650581</td>\n",
       "      <td>1.665863</td>\n",
       "      <td>3.670720</td>\n",
       "      <td>0.828164</td>\n",
       "      <td>2.152809</td>\n",
       "    </tr>\n",
       "    <tr>\n",
       "      <th>mas</th>\n",
       "      <td>2.593043</td>\n",
       "      <td>2.359930</td>\n",
       "      <td>1.003201</td>\n",
       "      <td>2.057921</td>\n",
       "      <td>0.863122</td>\n",
       "      <td>1.488920</td>\n",
       "      <td>2.927767</td>\n",
       "      <td>1.621972</td>\n",
       "      <td>2.804421</td>\n",
       "    </tr>\n",
       "  </tbody>\n",
       "</table>\n",
       "</div>"
      ],
      "text/plain": [
       "             I0     PA500       HFS        DA      Area      A/DA    Max IP  \\\n",
       "Class                                                                         \n",
       "adi    5.991624  1.981191  1.168190  1.799015  0.697284  1.496365  1.826177   \n",
       "car    4.529022  4.326409  1.627298  2.676660  1.804114  3.453135  3.472305   \n",
       "con    3.138295  2.619183  1.129022  2.088748  1.308497  1.299419  2.117544   \n",
       "fad    3.524342  1.802278  1.469851  2.632784  1.417008  1.992760  2.102318   \n",
       "gla    1.999534  3.401648  1.361094  1.299028  0.650581  1.665863  3.670720   \n",
       "mas    2.593043  2.359930  1.003201  2.057921  0.863122  1.488920  2.927767   \n",
       "\n",
       "             DR         P  \n",
       "Class                      \n",
       "adi    1.409575  5.533511  \n",
       "car    2.282995  5.150643  \n",
       "con    1.993766  2.991003  \n",
       "fad    2.149276  3.603421  \n",
       "gla    0.828164  2.152809  \n",
       "mas    1.621972  2.804421  "
      ]
     },
     "execution_count": 11,
     "metadata": {},
     "output_type": "execute_result"
    }
   ],
   "source": [
    "means.div(stds)"
   ]
  },
  {
   "cell_type": "markdown",
   "id": "90c0f4d5-98d9-4cc5-9d03-62e73c492aab",
   "metadata": {
    "pycharm": {
     "name": "#%% md\n"
    }
   },
   "source": [
    "### Korelacje wzajemne cech"
   ]
  },
  {
   "cell_type": "code",
   "execution_count": 12,
   "id": "ae139d16-4396-4b1b-ae8b-6ffb1ce16114",
   "metadata": {
    "pycharm": {
     "name": "#%%\n"
    }
   },
   "outputs": [
    {
     "data": {
      "image/png": "[encoded data removed]",
      "text/plain": [
       "<Figure size 864x576 with 2 Axes>"
      ]
     },
     "metadata": {
      "needs_background": "light"
     },
     "output_type": "display_data"
    }
   ],
   "source": [
    "corrs = data.corr(\"pearson\").round(4)\n",
    "heatmap_fig, heatmap_ax = plt.subplots(figsize=(12,8))\n",
    "sns.heatmap(corrs, ax=heatmap_ax, annot=True);\n",
    "plt.title(\"Korelacje wzajemne cech w całym zbiorze (współczynniki Pearsona)\", fontdict={\"size\":20});"
   ]
  },
  {
   "cell_type": "code",
   "execution_count": 13,
   "id": "f25039b8-157e-4def-a18c-7d08d42d0512",
   "metadata": {
    "pycharm": {
     "name": "#%%\n"
    }
   },
   "outputs": [
    {
     "data": {
      "text/html": [
       "<div>\n",
       "<style scoped>\n",
       "    .dataframe tbody tr th:only-of-type {\n",
       "        vertical-align: middle;\n",
       "    }\n",
       "\n",
       "    .dataframe tbody tr th {\n",
       "        vertical-align: top;\n",
       "    }\n",
       "\n",
       "    .dataframe thead th {\n",
       "        text-align: right;\n",
       "    }\n",
       "</style>\n",
       "<table border=\"1\" class=\"dataframe\">\n",
       "  <thead>\n",
       "    <tr style=\"text-align: right;\">\n",
       "      <th></th>\n",
       "      <th>Class</th>\n",
       "      <th>I0</th>\n",
       "      <th>PA500</th>\n",
       "      <th>HFS</th>\n",
       "      <th>DA</th>\n",
       "      <th>Area</th>\n",
       "      <th>A/DA</th>\n",
       "      <th>Max IP</th>\n",
       "      <th>DR</th>\n",
       "      <th>P</th>\n",
       "    </tr>\n",
       "    <tr>\n",
       "      <th>Case #</th>\n",
       "      <th></th>\n",
       "      <th></th>\n",
       "      <th></th>\n",
       "      <th></th>\n",
       "      <th></th>\n",
       "      <th></th>\n",
       "      <th></th>\n",
       "      <th></th>\n",
       "      <th></th>\n",
       "      <th></th>\n",
       "    </tr>\n",
       "  </thead>\n",
       "  <tbody>\n",
       "    <tr>\n",
       "      <th>103</th>\n",
       "      <td>adi</td>\n",
       "      <td>2600.000000</td>\n",
       "      <td>0.200538</td>\n",
       "      <td>0.208043</td>\n",
       "      <td>1063.441427</td>\n",
       "      <td>174480.476218</td>\n",
       "      <td>164.071543</td>\n",
       "      <td>418.687286</td>\n",
       "      <td>977.552367</td>\n",
       "      <td>2664.583623</td>\n",
       "    </tr>\n",
       "    <tr>\n",
       "      <th>102</th>\n",
       "      <td>adi</td>\n",
       "      <td>2000.000000</td>\n",
       "      <td>0.106989</td>\n",
       "      <td>0.105418</td>\n",
       "      <td>520.222649</td>\n",
       "      <td>40087.920984</td>\n",
       "      <td>77.059161</td>\n",
       "      <td>204.090347</td>\n",
       "      <td>478.517223</td>\n",
       "      <td>2088.648870</td>\n",
       "    </tr>\n",
       "    <tr>\n",
       "      <th>106</th>\n",
       "      <td>adi</td>\n",
       "      <td>2600.000000</td>\n",
       "      <td>0.069988</td>\n",
       "      <td>0.048869</td>\n",
       "      <td>745.474369</td>\n",
       "      <td>39845.773698</td>\n",
       "      <td>53.450226</td>\n",
       "      <td>154.122604</td>\n",
       "      <td>729.368395</td>\n",
       "      <td>2545.419744</td>\n",
       "    </tr>\n",
       "    <tr>\n",
       "      <th>100</th>\n",
       "      <td>adi</td>\n",
       "      <td>2400.000000</td>\n",
       "      <td>0.084125</td>\n",
       "      <td>0.220610</td>\n",
       "      <td>596.041956</td>\n",
       "      <td>37939.255571</td>\n",
       "      <td>63.651988</td>\n",
       "      <td>261.348175</td>\n",
       "      <td>535.689409</td>\n",
       "      <td>2447.772353</td>\n",
       "    </tr>\n",
       "    <tr>\n",
       "      <th>87</th>\n",
       "      <td>adi</td>\n",
       "      <td>2100.000000</td>\n",
       "      <td>0.121649</td>\n",
       "      <td>0.377689</td>\n",
       "      <td>450.551667</td>\n",
       "      <td>35671.606287</td>\n",
       "      <td>79.173176</td>\n",
       "      <td>436.099640</td>\n",
       "      <td>113.198570</td>\n",
       "      <td>2461.450497</td>\n",
       "    </tr>\n",
       "    <tr>\n",
       "      <th>...</th>\n",
       "      <td>...</td>\n",
       "      <td>...</td>\n",
       "      <td>...</td>\n",
       "      <td>...</td>\n",
       "      <td>...</td>\n",
       "      <td>...</td>\n",
       "      <td>...</td>\n",
       "      <td>...</td>\n",
       "      <td>...</td>\n",
       "      <td>...</td>\n",
       "    </tr>\n",
       "    <tr>\n",
       "      <th>23</th>\n",
       "      <td>fad</td>\n",
       "      <td>196.856714</td>\n",
       "      <td>0.020071</td>\n",
       "      <td>0.090757</td>\n",
       "      <td>28.593126</td>\n",
       "      <td>82.058889</td>\n",
       "      <td>2.869882</td>\n",
       "      <td>7.968783</td>\n",
       "      <td>27.661516</td>\n",
       "      <td>200.749336</td>\n",
       "    </tr>\n",
       "    <tr>\n",
       "      <th>67</th>\n",
       "      <td>gla</td>\n",
       "      <td>176.000000</td>\n",
       "      <td>0.089884</td>\n",
       "      <td>0.076794</td>\n",
       "      <td>20.588524</td>\n",
       "      <td>79.705425</td>\n",
       "      <td>3.871352</td>\n",
       "      <td>18.226492</td>\n",
       "      <td>9.575088</td>\n",
       "      <td>191.992879</td>\n",
       "    </tr>\n",
       "    <tr>\n",
       "      <th>69</th>\n",
       "      <td>gla</td>\n",
       "      <td>124.128728</td>\n",
       "      <td>0.131947</td>\n",
       "      <td>0.108909</td>\n",
       "      <td>20.592633</td>\n",
       "      <td>78.342794</td>\n",
       "      <td>3.804409</td>\n",
       "      <td>18.462399</td>\n",
       "      <td>9.121206</td>\n",
       "      <td>134.892697</td>\n",
       "    </tr>\n",
       "    <tr>\n",
       "      <th>70</th>\n",
       "      <td>gla</td>\n",
       "      <td>103.000000</td>\n",
       "      <td>0.158127</td>\n",
       "      <td>0.291819</td>\n",
       "      <td>23.754811</td>\n",
       "      <td>78.258474</td>\n",
       "      <td>3.294426</td>\n",
       "      <td>22.323603</td>\n",
       "      <td>8.120826</td>\n",
       "      <td>124.978561</td>\n",
       "    </tr>\n",
       "    <tr>\n",
       "      <th>36</th>\n",
       "      <td>fad</td>\n",
       "      <td>144.000000</td>\n",
       "      <td>0.120602</td>\n",
       "      <td>0.046077</td>\n",
       "      <td>19.647670</td>\n",
       "      <td>70.426239</td>\n",
       "      <td>3.584458</td>\n",
       "      <td>18.131014</td>\n",
       "      <td>7.569493</td>\n",
       "      <td>160.373770</td>\n",
       "    </tr>\n",
       "  </tbody>\n",
       "</table>\n",
       "<p>106 rows × 10 columns</p>\n",
       "</div>"
      ],
      "text/plain": [
       "       Class           I0     PA500       HFS           DA           Area  \\\n",
       "Case #                                                                      \n",
       "103      adi  2600.000000  0.200538  0.208043  1063.441427  174480.476218   \n",
       "102      adi  2000.000000  0.106989  0.105418   520.222649   40087.920984   \n",
       "106      adi  2600.000000  0.069988  0.048869   745.474369   39845.773698   \n",
       "100      adi  2400.000000  0.084125  0.220610   596.041956   37939.255571   \n",
       "87       adi  2100.000000  0.121649  0.377689   450.551667   35671.606287   \n",
       "...      ...          ...       ...       ...          ...            ...   \n",
       "23       fad   196.856714  0.020071  0.090757    28.593126      82.058889   \n",
       "67       gla   176.000000  0.089884  0.076794    20.588524      79.705425   \n",
       "69       gla   124.128728  0.131947  0.108909    20.592633      78.342794   \n",
       "70       gla   103.000000  0.158127  0.291819    23.754811      78.258474   \n",
       "36       fad   144.000000  0.120602  0.046077    19.647670      70.426239   \n",
       "\n",
       "              A/DA      Max IP          DR            P  \n",
       "Case #                                                   \n",
       "103     164.071543  418.687286  977.552367  2664.583623  \n",
       "102      77.059161  204.090347  478.517223  2088.648870  \n",
       "106      53.450226  154.122604  729.368395  2545.419744  \n",
       "100      63.651988  261.348175  535.689409  2447.772353  \n",
       "87       79.173176  436.099640  113.198570  2461.450497  \n",
       "...            ...         ...         ...          ...  \n",
       "23        2.869882    7.968783   27.661516   200.749336  \n",
       "67        3.871352   18.226492    9.575088   191.992879  \n",
       "69        3.804409   18.462399    9.121206   134.892697  \n",
       "70        3.294426   22.323603    8.120826   124.978561  \n",
       "36        3.584458   18.131014    7.569493   160.373770  \n",
       "\n",
       "[106 rows x 10 columns]"
      ]
     },
     "execution_count": 13,
     "metadata": {},
     "output_type": "execute_result"
    }
   ],
   "source": [
    "data.sort_values(\"Area\", ascending=False)"
   ]
  },
  {
   "cell_type": "code",
   "execution_count": 14,
   "id": "63a83cb0-d8c5-457b-8a59-6ea875255f5e",
   "metadata": {
    "pycharm": {
     "name": "#%%\n"
    }
   },
   "outputs": [
    {
     "data": {
      "text/html": [
       "<div>\n",
       "<style scoped>\n",
       "    .dataframe tbody tr th:only-of-type {\n",
       "        vertical-align: middle;\n",
       "    }\n",
       "\n",
       "    .dataframe tbody tr th {\n",
       "        vertical-align: top;\n",
       "    }\n",
       "\n",
       "    .dataframe thead th {\n",
       "        text-align: right;\n",
       "    }\n",
       "</style>\n",
       "<table border=\"1\" class=\"dataframe\">\n",
       "  <thead>\n",
       "    <tr style=\"text-align: right;\">\n",
       "      <th></th>\n",
       "      <th>Class</th>\n",
       "      <th>I0</th>\n",
       "      <th>PA500</th>\n",
       "      <th>HFS</th>\n",
       "      <th>DA</th>\n",
       "      <th>Area</th>\n",
       "      <th>A/DA</th>\n",
       "      <th>Max IP</th>\n",
       "      <th>DR</th>\n",
       "      <th>P</th>\n",
       "    </tr>\n",
       "    <tr>\n",
       "      <th>Case #</th>\n",
       "      <th></th>\n",
       "      <th></th>\n",
       "      <th></th>\n",
       "      <th></th>\n",
       "      <th></th>\n",
       "      <th></th>\n",
       "      <th></th>\n",
       "      <th></th>\n",
       "      <th></th>\n",
       "      <th></th>\n",
       "    </tr>\n",
       "  </thead>\n",
       "  <tbody>\n",
       "    <tr>\n",
       "      <th>55</th>\n",
       "      <td>gla</td>\n",
       "      <td>470.516420</td>\n",
       "      <td>0.127409</td>\n",
       "      <td>0.066323</td>\n",
       "      <td>150.224022</td>\n",
       "      <td>2657.910367</td>\n",
       "      <td>17.692978</td>\n",
       "      <td>47.560631</td>\n",
       "      <td>142.496468</td>\n",
       "      <td>491.472488</td>\n",
       "    </tr>\n",
       "    <tr>\n",
       "      <th>66</th>\n",
       "      <td>gla</td>\n",
       "      <td>502.000000</td>\n",
       "      <td>0.065275</td>\n",
       "      <td>0.027925</td>\n",
       "      <td>53.239433</td>\n",
       "      <td>834.272731</td>\n",
       "      <td>15.670203</td>\n",
       "      <td>33.331142</td>\n",
       "      <td>41.514722</td>\n",
       "      <td>544.039414</td>\n",
       "    </tr>\n",
       "    <tr>\n",
       "      <th>63</th>\n",
       "      <td>gla</td>\n",
       "      <td>178.000000</td>\n",
       "      <td>0.149575</td>\n",
       "      <td>0.099135</td>\n",
       "      <td>40.290621</td>\n",
       "      <td>474.404699</td>\n",
       "      <td>11.774569</td>\n",
       "      <td>25.920828</td>\n",
       "      <td>30.845499</td>\n",
       "      <td>209.180738</td>\n",
       "    </tr>\n",
       "    <tr>\n",
       "      <th>60</th>\n",
       "      <td>gla</td>\n",
       "      <td>197.000000</td>\n",
       "      <td>0.132645</td>\n",
       "      <td>0.074002</td>\n",
       "      <td>33.460653</td>\n",
       "      <td>409.647141</td>\n",
       "      <td>12.242652</td>\n",
       "      <td>26.992807</td>\n",
       "      <td>19.773813</td>\n",
       "      <td>231.783788</td>\n",
       "    </tr>\n",
       "    <tr>\n",
       "      <th>61</th>\n",
       "      <td>gla</td>\n",
       "      <td>197.000000</td>\n",
       "      <td>0.132645</td>\n",
       "      <td>0.074002</td>\n",
       "      <td>33.460653</td>\n",
       "      <td>409.647141</td>\n",
       "      <td>12.242652</td>\n",
       "      <td>26.992807</td>\n",
       "      <td>19.773813</td>\n",
       "      <td>231.783788</td>\n",
       "    </tr>\n",
       "    <tr>\n",
       "      <th>64</th>\n",
       "      <td>gla</td>\n",
       "      <td>185.000000</td>\n",
       "      <td>0.149749</td>\n",
       "      <td>0.085172</td>\n",
       "      <td>39.891409</td>\n",
       "      <td>361.747980</td>\n",
       "      <td>9.068318</td>\n",
       "      <td>26.860762</td>\n",
       "      <td>29.492780</td>\n",
       "      <td>210.178719</td>\n",
       "    </tr>\n",
       "    <tr>\n",
       "      <th>62</th>\n",
       "      <td>gla</td>\n",
       "      <td>216.413257</td>\n",
       "      <td>0.117810</td>\n",
       "      <td>0.068417</td>\n",
       "      <td>53.599600</td>\n",
       "      <td>280.445486</td>\n",
       "      <td>5.232231</td>\n",
       "      <td>22.790535</td>\n",
       "      <td>48.512974</td>\n",
       "      <td>215.372920</td>\n",
       "    </tr>\n",
       "    <tr>\n",
       "      <th>65</th>\n",
       "      <td>gla</td>\n",
       "      <td>391.000000</td>\n",
       "      <td>0.058119</td>\n",
       "      <td>0.011170</td>\n",
       "      <td>35.780061</td>\n",
       "      <td>265.149790</td>\n",
       "      <td>7.410546</td>\n",
       "      <td>22.131472</td>\n",
       "      <td>28.114244</td>\n",
       "      <td>400.994818</td>\n",
       "    </tr>\n",
       "    <tr>\n",
       "      <th>56</th>\n",
       "      <td>gla</td>\n",
       "      <td>223.000000</td>\n",
       "      <td>0.124093</td>\n",
       "      <td>0.079587</td>\n",
       "      <td>33.096335</td>\n",
       "      <td>197.012541</td>\n",
       "      <td>5.952700</td>\n",
       "      <td>30.454874</td>\n",
       "      <td>12.956390</td>\n",
       "      <td>252.483348</td>\n",
       "    </tr>\n",
       "    <tr>\n",
       "      <th>59</th>\n",
       "      <td>gla</td>\n",
       "      <td>250.000000</td>\n",
       "      <td>0.087092</td>\n",
       "      <td>0.092852</td>\n",
       "      <td>29.637510</td>\n",
       "      <td>180.761244</td>\n",
       "      <td>6.099070</td>\n",
       "      <td>26.142097</td>\n",
       "      <td>13.963263</td>\n",
       "      <td>280.122906</td>\n",
       "    </tr>\n",
       "    <tr>\n",
       "      <th>58</th>\n",
       "      <td>gla</td>\n",
       "      <td>303.000000</td>\n",
       "      <td>0.063355</td>\n",
       "      <td>0.039794</td>\n",
       "      <td>22.567893</td>\n",
       "      <td>102.500309</td>\n",
       "      <td>4.541864</td>\n",
       "      <td>21.830841</td>\n",
       "      <td>5.720501</td>\n",
       "      <td>321.646837</td>\n",
       "    </tr>\n",
       "    <tr>\n",
       "      <th>57</th>\n",
       "      <td>gla</td>\n",
       "      <td>152.000000</td>\n",
       "      <td>0.165806</td>\n",
       "      <td>0.227591</td>\n",
       "      <td>34.219550</td>\n",
       "      <td>94.354328</td>\n",
       "      <td>2.757322</td>\n",
       "      <td>31.279278</td>\n",
       "      <td>13.877478</td>\n",
       "      <td>180.609553</td>\n",
       "    </tr>\n",
       "    <tr>\n",
       "      <th>68</th>\n",
       "      <td>gla</td>\n",
       "      <td>145.000000</td>\n",
       "      <td>0.117635</td>\n",
       "      <td>0.110305</td>\n",
       "      <td>21.218942</td>\n",
       "      <td>82.455562</td>\n",
       "      <td>3.885941</td>\n",
       "      <td>20.303082</td>\n",
       "      <td>6.166715</td>\n",
       "      <td>162.510927</td>\n",
       "    </tr>\n",
       "    <tr>\n",
       "      <th>67</th>\n",
       "      <td>gla</td>\n",
       "      <td>176.000000</td>\n",
       "      <td>0.089884</td>\n",
       "      <td>0.076794</td>\n",
       "      <td>20.588524</td>\n",
       "      <td>79.705425</td>\n",
       "      <td>3.871352</td>\n",
       "      <td>18.226492</td>\n",
       "      <td>9.575088</td>\n",
       "      <td>191.992879</td>\n",
       "    </tr>\n",
       "    <tr>\n",
       "      <th>69</th>\n",
       "      <td>gla</td>\n",
       "      <td>124.128728</td>\n",
       "      <td>0.131947</td>\n",
       "      <td>0.108909</td>\n",
       "      <td>20.592633</td>\n",
       "      <td>78.342794</td>\n",
       "      <td>3.804409</td>\n",
       "      <td>18.462399</td>\n",
       "      <td>9.121206</td>\n",
       "      <td>134.892697</td>\n",
       "    </tr>\n",
       "    <tr>\n",
       "      <th>70</th>\n",
       "      <td>gla</td>\n",
       "      <td>103.000000</td>\n",
       "      <td>0.158127</td>\n",
       "      <td>0.291819</td>\n",
       "      <td>23.754811</td>\n",
       "      <td>78.258474</td>\n",
       "      <td>3.294426</td>\n",
       "      <td>22.323603</td>\n",
       "      <td>8.120826</td>\n",
       "      <td>124.978561</td>\n",
       "    </tr>\n",
       "  </tbody>\n",
       "</table>\n",
       "</div>"
      ],
      "text/plain": [
       "       Class          I0     PA500       HFS          DA         Area  \\\n",
       "Case #                                                                  \n",
       "55       gla  470.516420  0.127409  0.066323  150.224022  2657.910367   \n",
       "66       gla  502.000000  0.065275  0.027925   53.239433   834.272731   \n",
       "63       gla  178.000000  0.149575  0.099135   40.290621   474.404699   \n",
       "60       gla  197.000000  0.132645  0.074002   33.460653   409.647141   \n",
       "61       gla  197.000000  0.132645  0.074002   33.460653   409.647141   \n",
       "64       gla  185.000000  0.149749  0.085172   39.891409   361.747980   \n",
       "62       gla  216.413257  0.117810  0.068417   53.599600   280.445486   \n",
       "65       gla  391.000000  0.058119  0.011170   35.780061   265.149790   \n",
       "56       gla  223.000000  0.124093  0.079587   33.096335   197.012541   \n",
       "59       gla  250.000000  0.087092  0.092852   29.637510   180.761244   \n",
       "58       gla  303.000000  0.063355  0.039794   22.567893   102.500309   \n",
       "57       gla  152.000000  0.165806  0.227591   34.219550    94.354328   \n",
       "68       gla  145.000000  0.117635  0.110305   21.218942    82.455562   \n",
       "67       gla  176.000000  0.089884  0.076794   20.588524    79.705425   \n",
       "69       gla  124.128728  0.131947  0.108909   20.592633    78.342794   \n",
       "70       gla  103.000000  0.158127  0.291819   23.754811    78.258474   \n",
       "\n",
       "             A/DA     Max IP          DR           P  \n",
       "Case #                                                \n",
       "55      17.692978  47.560631  142.496468  491.472488  \n",
       "66      15.670203  33.331142   41.514722  544.039414  \n",
       "63      11.774569  25.920828   30.845499  209.180738  \n",
       "60      12.242652  26.992807   19.773813  231.783788  \n",
       "61      12.242652  26.992807   19.773813  231.783788  \n",
       "64       9.068318  26.860762   29.492780  210.178719  \n",
       "62       5.232231  22.790535   48.512974  215.372920  \n",
       "65       7.410546  22.131472   28.114244  400.994818  \n",
       "56       5.952700  30.454874   12.956390  252.483348  \n",
       "59       6.099070  26.142097   13.963263  280.122906  \n",
       "58       4.541864  21.830841    5.720501  321.646837  \n",
       "57       2.757322  31.279278   13.877478  180.609553  \n",
       "68       3.885941  20.303082    6.166715  162.510927  \n",
       "67       3.871352  18.226492    9.575088  191.992879  \n",
       "69       3.804409  18.462399    9.121206  134.892697  \n",
       "70       3.294426  22.323603    8.120826  124.978561  "
      ]
     },
     "execution_count": 14,
     "metadata": {},
     "output_type": "execute_result"
    }
   ],
   "source": [
    "data[data[\"Class\"]==\"gla\"].sort_values(\"Area\", ascending=False)"
   ]
  },
  {
   "cell_type": "code",
   "execution_count": 15,
   "id": "4fdb72fd-ede3-425d-a0cd-00a593f7c0f4",
   "metadata": {
    "pycharm": {
     "name": "#%%\n"
    }
   },
   "outputs": [
    {
     "data": {
      "text/html": [
       "<div>\n",
       "<style scoped>\n",
       "    .dataframe tbody tr th:only-of-type {\n",
       "        vertical-align: middle;\n",
       "    }\n",
       "\n",
       "    .dataframe tbody tr th {\n",
       "        vertical-align: top;\n",
       "    }\n",
       "\n",
       "    .dataframe thead th {\n",
       "        text-align: right;\n",
       "    }\n",
       "</style>\n",
       "<table border=\"1\" class=\"dataframe\">\n",
       "  <thead>\n",
       "    <tr style=\"text-align: right;\">\n",
       "      <th></th>\n",
       "      <th>I0</th>\n",
       "      <th>PA500</th>\n",
       "      <th>HFS</th>\n",
       "      <th>DA</th>\n",
       "      <th>Area</th>\n",
       "      <th>A/DA</th>\n",
       "      <th>Max IP</th>\n",
       "      <th>DR</th>\n",
       "      <th>P</th>\n",
       "    </tr>\n",
       "    <tr>\n",
       "      <th>Class</th>\n",
       "      <th></th>\n",
       "      <th></th>\n",
       "      <th></th>\n",
       "      <th></th>\n",
       "      <th></th>\n",
       "      <th></th>\n",
       "      <th></th>\n",
       "      <th></th>\n",
       "      <th></th>\n",
       "    </tr>\n",
       "  </thead>\n",
       "  <tbody>\n",
       "    <tr>\n",
       "      <th>adi</th>\n",
       "      <td>2025.9575</td>\n",
       "      <td>0.0675</td>\n",
       "      <td>0.1309</td>\n",
       "      <td>365.2618</td>\n",
       "      <td>17766.3746</td>\n",
       "      <td>45.3808</td>\n",
       "      <td>183.9263</td>\n",
       "      <td>293.6272</td>\n",
       "      <td>2113.7142</td>\n",
       "    </tr>\n",
       "    <tr>\n",
       "      <th>car</th>\n",
       "      <td>394.2320</td>\n",
       "      <td>0.2199</td>\n",
       "      <td>0.1843</td>\n",
       "      <td>168.2712</td>\n",
       "      <td>5723.1214</td>\n",
       "      <td>32.0463</td>\n",
       "      <td>64.5315</td>\n",
       "      <td>153.0080</td>\n",
       "      <td>479.9726</td>\n",
       "    </tr>\n",
       "    <tr>\n",
       "      <th>con</th>\n",
       "      <td>1212.8643</td>\n",
       "      <td>0.0702</td>\n",
       "      <td>0.0522</td>\n",
       "      <td>367.9858</td>\n",
       "      <td>5324.5712</td>\n",
       "      <td>13.9978</td>\n",
       "      <td>72.9580</td>\n",
       "      <td>357.9824</td>\n",
       "      <td>1064.9929</td>\n",
       "    </tr>\n",
       "    <tr>\n",
       "      <th>fad</th>\n",
       "      <td>245.8626</td>\n",
       "      <td>0.0953</td>\n",
       "      <td>0.0707</td>\n",
       "      <td>54.3911</td>\n",
       "      <td>610.1829</td>\n",
       "      <td>10.0132</td>\n",
       "      <td>22.9741</td>\n",
       "      <td>47.8447</td>\n",
       "      <td>268.8740</td>\n",
       "    </tr>\n",
       "    <tr>\n",
       "      <th>gla</th>\n",
       "      <td>222.8361</td>\n",
       "      <td>0.1163</td>\n",
       "      <td>0.0978</td>\n",
       "      <td>33.0266</td>\n",
       "      <td>261.9137</td>\n",
       "      <td>7.1899</td>\n",
       "      <td>24.9362</td>\n",
       "      <td>19.8353</td>\n",
       "      <td>246.1715</td>\n",
       "    </tr>\n",
       "    <tr>\n",
       "      <th>mas</th>\n",
       "      <td>290.3108</td>\n",
       "      <td>0.1231</td>\n",
       "      <td>0.1114</td>\n",
       "      <td>73.2973</td>\n",
       "      <td>1082.3999</td>\n",
       "      <td>12.5817</td>\n",
       "      <td>31.4714</td>\n",
       "      <td>63.6100</td>\n",
       "      <td>314.9211</td>\n",
       "    </tr>\n",
       "  </tbody>\n",
       "</table>\n",
       "</div>"
      ],
      "text/plain": [
       "              I0   PA500     HFS        DA        Area     A/DA    Max IP  \\\n",
       "Class                                                                       \n",
       "adi    2025.9575  0.0675  0.1309  365.2618  17766.3746  45.3808  183.9263   \n",
       "car     394.2320  0.2199  0.1843  168.2712   5723.1214  32.0463   64.5315   \n",
       "con    1212.8643  0.0702  0.0522  367.9858   5324.5712  13.9978   72.9580   \n",
       "fad     245.8626  0.0953  0.0707   54.3911    610.1829  10.0132   22.9741   \n",
       "gla     222.8361  0.1163  0.0978   33.0266    261.9137   7.1899   24.9362   \n",
       "mas     290.3108  0.1231  0.1114   73.2973   1082.3999  12.5817   31.4714   \n",
       "\n",
       "             DR          P  \n",
       "Class                       \n",
       "adi    293.6272  2113.7142  \n",
       "car    153.0080   479.9726  \n",
       "con    357.9824  1064.9929  \n",
       "fad     47.8447   268.8740  \n",
       "gla     19.8353   246.1715  \n",
       "mas     63.6100   314.9211  "
      ]
     },
     "execution_count": 15,
     "metadata": {},
     "output_type": "execute_result"
    }
   ],
   "source": [
    "data2 = data.drop(index=[55,103])\n",
    "mean2 = data2.groupby(\"Class\").mean()\n",
    "mean2.round(4)"
   ]
  },
  {
   "cell_type": "code",
   "execution_count": 16,
   "id": "8fe4a549-a6a6-4fb4-b72e-25b6edc4b50f",
   "metadata": {
    "pycharm": {
     "name": "#%%\n"
    }
   },
   "outputs": [
    {
     "data": {
      "text/html": [
       "<div>\n",
       "<style scoped>\n",
       "    .dataframe tbody tr th:only-of-type {\n",
       "        vertical-align: middle;\n",
       "    }\n",
       "\n",
       "    .dataframe tbody tr th {\n",
       "        vertical-align: top;\n",
       "    }\n",
       "\n",
       "    .dataframe thead th {\n",
       "        text-align: right;\n",
       "    }\n",
       "</style>\n",
       "<table border=\"1\" class=\"dataframe\">\n",
       "  <thead>\n",
       "    <tr style=\"text-align: right;\">\n",
       "      <th></th>\n",
       "      <th>Class</th>\n",
       "      <th>I0</th>\n",
       "      <th>PA500</th>\n",
       "      <th>HFS</th>\n",
       "      <th>DA</th>\n",
       "      <th>Area</th>\n",
       "      <th>A/DA</th>\n",
       "      <th>Max IP</th>\n",
       "      <th>DR</th>\n",
       "      <th>P</th>\n",
       "    </tr>\n",
       "    <tr>\n",
       "      <th>Case #</th>\n",
       "      <th></th>\n",
       "      <th></th>\n",
       "      <th></th>\n",
       "      <th></th>\n",
       "      <th></th>\n",
       "      <th></th>\n",
       "      <th></th>\n",
       "      <th></th>\n",
       "      <th></th>\n",
       "      <th></th>\n",
       "    </tr>\n",
       "  </thead>\n",
       "  <tbody>\n",
       "    <tr>\n",
       "      <th>55</th>\n",
       "      <td>gla</td>\n",
       "      <td>470.5164</td>\n",
       "      <td>0.1274</td>\n",
       "      <td>0.0663</td>\n",
       "      <td>150.2240</td>\n",
       "      <td>2657.9104</td>\n",
       "      <td>17.6930</td>\n",
       "      <td>47.5606</td>\n",
       "      <td>142.4965</td>\n",
       "      <td>491.4725</td>\n",
       "    </tr>\n",
       "    <tr>\n",
       "      <th>103</th>\n",
       "      <td>adi</td>\n",
       "      <td>2600.0000</td>\n",
       "      <td>0.2005</td>\n",
       "      <td>0.2080</td>\n",
       "      <td>1063.4414</td>\n",
       "      <td>174480.4762</td>\n",
       "      <td>164.0715</td>\n",
       "      <td>418.6873</td>\n",
       "      <td>977.5524</td>\n",
       "      <td>2664.5836</td>\n",
       "    </tr>\n",
       "  </tbody>\n",
       "</table>\n",
       "</div>"
      ],
      "text/plain": [
       "       Class         I0   PA500     HFS         DA         Area      A/DA  \\\n",
       "Case #                                                                      \n",
       "55       gla   470.5164  0.1274  0.0663   150.2240    2657.9104   17.6930   \n",
       "103      adi  2600.0000  0.2005  0.2080  1063.4414  174480.4762  164.0715   \n",
       "\n",
       "          Max IP        DR          P  \n",
       "Case #                                 \n",
       "55       47.5606  142.4965   491.4725  \n",
       "103     418.6873  977.5524  2664.5836  "
      ]
     },
     "execution_count": 16,
     "metadata": {},
     "output_type": "execute_result"
    }
   ],
   "source": [
    "outliers = data.iloc[[54,102]]\n",
    "outliers.round(4)"
   ]
  },
  {
   "cell_type": "code",
   "execution_count": 17,
   "id": "e19f6fb0-e7a1-4b83-9922-f910e2642303",
   "metadata": {
    "pycharm": {
     "name": "#%%\n"
    }
   },
   "outputs": [
    {
     "data": {
      "text/html": [
       "<div>\n",
       "<style scoped>\n",
       "    .dataframe tbody tr th:only-of-type {\n",
       "        vertical-align: middle;\n",
       "    }\n",
       "\n",
       "    .dataframe tbody tr th {\n",
       "        vertical-align: top;\n",
       "    }\n",
       "\n",
       "    .dataframe thead th {\n",
       "        text-align: right;\n",
       "    }\n",
       "</style>\n",
       "<table border=\"1\" class=\"dataframe\">\n",
       "  <thead>\n",
       "    <tr style=\"text-align: right;\">\n",
       "      <th></th>\n",
       "      <th>I0</th>\n",
       "      <th>PA500</th>\n",
       "      <th>HFS</th>\n",
       "      <th>DA</th>\n",
       "      <th>Area</th>\n",
       "      <th>A/DA</th>\n",
       "      <th>Max IP</th>\n",
       "      <th>DR</th>\n",
       "      <th>P</th>\n",
       "    </tr>\n",
       "    <tr>\n",
       "      <th>Class</th>\n",
       "      <th></th>\n",
       "      <th></th>\n",
       "      <th></th>\n",
       "      <th></th>\n",
       "      <th></th>\n",
       "      <th></th>\n",
       "      <th></th>\n",
       "      <th></th>\n",
       "      <th></th>\n",
       "    </tr>\n",
       "  </thead>\n",
       "  <tbody>\n",
       "    <tr>\n",
       "      <th>adi</th>\n",
       "      <td>327.7721</td>\n",
       "      <td>0.0245</td>\n",
       "      <td>0.1167</td>\n",
       "      <td>166.9352</td>\n",
       "      <td>12872.9624</td>\n",
       "      <td>23.1657</td>\n",
       "      <td>96.3970</td>\n",
       "      <td>182.7460</td>\n",
       "      <td>377.3271</td>\n",
       "    </tr>\n",
       "    <tr>\n",
       "      <th>car</th>\n",
       "      <td>87.0457</td>\n",
       "      <td>0.0508</td>\n",
       "      <td>0.1133</td>\n",
       "      <td>62.8661</td>\n",
       "      <td>3172.2619</td>\n",
       "      <td>9.2804</td>\n",
       "      <td>18.5846</td>\n",
       "      <td>67.0207</td>\n",
       "      <td>93.1869</td>\n",
       "    </tr>\n",
       "    <tr>\n",
       "      <th>con</th>\n",
       "      <td>386.4724</td>\n",
       "      <td>0.0268</td>\n",
       "      <td>0.0463</td>\n",
       "      <td>176.1754</td>\n",
       "      <td>4069.2279</td>\n",
       "      <td>10.7724</td>\n",
       "      <td>34.4540</td>\n",
       "      <td>179.5508</td>\n",
       "      <td>356.0655</td>\n",
       "    </tr>\n",
       "    <tr>\n",
       "      <th>fad</th>\n",
       "      <td>69.7613</td>\n",
       "      <td>0.0529</td>\n",
       "      <td>0.0481</td>\n",
       "      <td>20.6592</td>\n",
       "      <td>430.6137</td>\n",
       "      <td>5.0248</td>\n",
       "      <td>10.9280</td>\n",
       "      <td>22.2608</td>\n",
       "      <td>74.6163</td>\n",
       "    </tr>\n",
       "    <tr>\n",
       "      <th>gla</th>\n",
       "      <td>105.4133</td>\n",
       "      <td>0.0355</td>\n",
       "      <td>0.0724</td>\n",
       "      <td>10.6793</td>\n",
       "      <td>211.0920</td>\n",
       "      <td>4.0475</td>\n",
       "      <td>4.5755</td>\n",
       "      <td>13.1912</td>\n",
       "      <td>108.5339</td>\n",
       "    </tr>\n",
       "    <tr>\n",
       "      <th>mas</th>\n",
       "      <td>111.9575</td>\n",
       "      <td>0.0522</td>\n",
       "      <td>0.1110</td>\n",
       "      <td>35.6172</td>\n",
       "      <td>1254.0518</td>\n",
       "      <td>8.4503</td>\n",
       "      <td>10.7493</td>\n",
       "      <td>39.2177</td>\n",
       "      <td>112.2945</td>\n",
       "    </tr>\n",
       "  </tbody>\n",
       "</table>\n",
       "</div>"
      ],
      "text/plain": [
       "             I0   PA500     HFS        DA        Area     A/DA   Max IP  \\\n",
       "Class                                                                     \n",
       "adi    327.7721  0.0245  0.1167  166.9352  12872.9624  23.1657  96.3970   \n",
       "car     87.0457  0.0508  0.1133   62.8661   3172.2619   9.2804  18.5846   \n",
       "con    386.4724  0.0268  0.0463  176.1754   4069.2279  10.7724  34.4540   \n",
       "fad     69.7613  0.0529  0.0481   20.6592    430.6137   5.0248  10.9280   \n",
       "gla    105.4133  0.0355  0.0724   10.6793    211.0920   4.0475   4.5755   \n",
       "mas    111.9575  0.0522  0.1110   35.6172   1254.0518   8.4503  10.7493   \n",
       "\n",
       "             DR         P  \n",
       "Class                      \n",
       "adi    182.7460  377.3271  \n",
       "car     67.0207   93.1869  \n",
       "con    179.5508  356.0655  \n",
       "fad     22.2608   74.6163  \n",
       "gla     13.1912  108.5339  \n",
       "mas     39.2177  112.2945  "
      ]
     },
     "execution_count": 17,
     "metadata": {},
     "output_type": "execute_result"
    }
   ],
   "source": [
    "std2 = data2.groupby(\"Class\").std()\n",
    "std2.round(4)"
   ]
  },
  {
   "cell_type": "code",
   "execution_count": 18,
   "id": "0d634b68-0326-43c7-8c31-e2586f9feb3a",
   "metadata": {
    "pycharm": {
     "name": "#%%\n"
    }
   },
   "outputs": [
    {
     "data": {
      "text/html": [
       "<div>\n",
       "<style scoped>\n",
       "    .dataframe tbody tr th:only-of-type {\n",
       "        vertical-align: middle;\n",
       "    }\n",
       "\n",
       "    .dataframe tbody tr th {\n",
       "        vertical-align: top;\n",
       "    }\n",
       "\n",
       "    .dataframe thead th {\n",
       "        text-align: right;\n",
       "    }\n",
       "</style>\n",
       "<table border=\"1\" class=\"dataframe\">\n",
       "  <thead>\n",
       "    <tr style=\"text-align: right;\">\n",
       "      <th></th>\n",
       "      <th>I0</th>\n",
       "      <th>PA500</th>\n",
       "      <th>HFS</th>\n",
       "      <th>DA</th>\n",
       "      <th>Area</th>\n",
       "      <th>A/DA</th>\n",
       "      <th>Max IP</th>\n",
       "      <th>DR</th>\n",
       "      <th>P</th>\n",
       "    </tr>\n",
       "    <tr>\n",
       "      <th>Class</th>\n",
       "      <th></th>\n",
       "      <th></th>\n",
       "      <th></th>\n",
       "      <th></th>\n",
       "      <th></th>\n",
       "      <th></th>\n",
       "      <th></th>\n",
       "      <th></th>\n",
       "      <th></th>\n",
       "    </tr>\n",
       "  </thead>\n",
       "  <tbody>\n",
       "    <tr>\n",
       "      <th>adi</th>\n",
       "      <td>6.1810</td>\n",
       "      <td>2.7501</td>\n",
       "      <td>1.1218</td>\n",
       "      <td>2.1880</td>\n",
       "      <td>1.3801</td>\n",
       "      <td>1.9590</td>\n",
       "      <td>1.9080</td>\n",
       "      <td>1.6068</td>\n",
       "      <td>5.6018</td>\n",
       "    </tr>\n",
       "    <tr>\n",
       "      <th>car</th>\n",
       "      <td>4.5290</td>\n",
       "      <td>4.3264</td>\n",
       "      <td>1.6273</td>\n",
       "      <td>2.6767</td>\n",
       "      <td>1.8041</td>\n",
       "      <td>3.4531</td>\n",
       "      <td>3.4723</td>\n",
       "      <td>2.2830</td>\n",
       "      <td>5.1506</td>\n",
       "    </tr>\n",
       "    <tr>\n",
       "      <th>con</th>\n",
       "      <td>3.1383</td>\n",
       "      <td>2.6192</td>\n",
       "      <td>1.1290</td>\n",
       "      <td>2.0887</td>\n",
       "      <td>1.3085</td>\n",
       "      <td>1.2994</td>\n",
       "      <td>2.1175</td>\n",
       "      <td>1.9938</td>\n",
       "      <td>2.9910</td>\n",
       "    </tr>\n",
       "    <tr>\n",
       "      <th>fad</th>\n",
       "      <td>3.5243</td>\n",
       "      <td>1.8023</td>\n",
       "      <td>1.4699</td>\n",
       "      <td>2.6328</td>\n",
       "      <td>1.4170</td>\n",
       "      <td>1.9928</td>\n",
       "      <td>2.1023</td>\n",
       "      <td>2.1493</td>\n",
       "      <td>3.6034</td>\n",
       "    </tr>\n",
       "    <tr>\n",
       "      <th>gla</th>\n",
       "      <td>2.1139</td>\n",
       "      <td>3.2775</td>\n",
       "      <td>1.3504</td>\n",
       "      <td>3.0926</td>\n",
       "      <td>1.2408</td>\n",
       "      <td>1.7764</td>\n",
       "      <td>5.4500</td>\n",
       "      <td>1.5037</td>\n",
       "      <td>2.2682</td>\n",
       "    </tr>\n",
       "    <tr>\n",
       "      <th>mas</th>\n",
       "      <td>2.5930</td>\n",
       "      <td>2.3599</td>\n",
       "      <td>1.0032</td>\n",
       "      <td>2.0579</td>\n",
       "      <td>0.8631</td>\n",
       "      <td>1.4889</td>\n",
       "      <td>2.9278</td>\n",
       "      <td>1.6220</td>\n",
       "      <td>2.8044</td>\n",
       "    </tr>\n",
       "  </tbody>\n",
       "</table>\n",
       "</div>"
      ],
      "text/plain": [
       "           I0   PA500     HFS      DA    Area    A/DA  Max IP      DR       P\n",
       "Class                                                                        \n",
       "adi    6.1810  2.7501  1.1218  2.1880  1.3801  1.9590  1.9080  1.6068  5.6018\n",
       "car    4.5290  4.3264  1.6273  2.6767  1.8041  3.4531  3.4723  2.2830  5.1506\n",
       "con    3.1383  2.6192  1.1290  2.0887  1.3085  1.2994  2.1175  1.9938  2.9910\n",
       "fad    3.5243  1.8023  1.4699  2.6328  1.4170  1.9928  2.1023  2.1493  3.6034\n",
       "gla    2.1139  3.2775  1.3504  3.0926  1.2408  1.7764  5.4500  1.5037  2.2682\n",
       "mas    2.5930  2.3599  1.0032  2.0579  0.8631  1.4889  2.9278  1.6220  2.8044"
      ]
     },
     "execution_count": 18,
     "metadata": {},
     "output_type": "execute_result"
    }
   ],
   "source": [
    "mean2.div(std2).round(4)"
   ]
  },
  {
   "cell_type": "markdown",
   "id": "e7c738b7-f61b-4998-88fa-c5c2fac37f85",
   "metadata": {
    "pycharm": {
     "name": "#%% md\n"
    }
   },
   "source": [
    "### Histogramy dla całego zbioru z outlierami"
   ]
  },
  {
   "cell_type": "code",
   "execution_count": 19,
   "id": "fe0c150a-af00-440f-9fc7-fa24960824d0",
   "metadata": {
    "pycharm": {
     "name": "#%%\n"
    }
   },
   "outputs": [
    {
     "data": {
      "image/png": "[encoded data removed]",
      "text/plain": [
       "<Figure size 1440x1080 with 9 Axes>"
      ]
     },
     "metadata": {
      "needs_background": "light"
     },
     "output_type": "display_data"
    }
   ],
   "source": [
    "axes=data.hist(figsize=(20,15));\n",
    "for row in axes:\n",
    "    for ax in row:\n",
    "        ax.title.set_size(20)"
   ]
  },
  {
   "cell_type": "markdown",
   "id": "1610d97e-13db-4f15-afe5-2de4dae0c748",
   "metadata": {
    "pycharm": {
     "name": "#%% md\n"
    }
   },
   "source": [
    "### Histogramy dla całego zbioru bez outlierów"
   ]
  },
  {
   "cell_type": "code",
   "execution_count": 20,
   "id": "ce3125a9-5583-478a-8d4e-7981ecb17e9d",
   "metadata": {
    "pycharm": {
     "name": "#%%\n"
    }
   },
   "outputs": [
    {
     "data": {
      "image/png": "[encoded data removed]",
      "text/plain": [
       "<Figure size 1440x1080 with 9 Axes>"
      ]
     },
     "metadata": {
      "needs_background": "light"
     },
     "output_type": "display_data"
    }
   ],
   "source": [
    "data2.hist(figsize=(20,15));"
   ]
  },
  {
   "cell_type": "markdown",
   "id": "03377c53-f23d-4d6f-9fc9-e6f9ed66763b",
   "metadata": {
    "pycharm": {
     "name": "#%% md\n"
    }
   },
   "source": [
    "### Histogramy dla klasy adi z outlierami"
   ]
  },
  {
   "cell_type": "code",
   "execution_count": 21,
   "id": "da539116-e265-4ce9-a1c1-cf297a76ba73",
   "metadata": {
    "pycharm": {
     "name": "#%%\n"
    }
   },
   "outputs": [
    {
     "data": {
      "image/png": "[encoded data removed]",
      "text/plain": [
       "<Figure size 1440x1080 with 9 Axes>"
      ]
     },
     "metadata": {
      "needs_background": "light"
     },
     "output_type": "display_data"
    }
   ],
   "source": [
    "axes=data[data[\"Class\"]==\"adi\"].hist(figsize=(20,15));\n",
    "for row in axes:\n",
    "    for ax in row:\n",
    "        ax.title.set_size(20)"
   ]
  },
  {
   "cell_type": "markdown",
   "id": "9e3506ec-f760-4557-9058-e17be7109bb2",
   "metadata": {
    "pycharm": {
     "name": "#%% md\n"
    }
   },
   "source": [
    "### Histogramy dla klasy adi bez outlierów"
   ]
  },
  {
   "cell_type": "code",
   "execution_count": 22,
   "id": "d58217d0-82cd-4f78-ae92-a48ddc3b1578",
   "metadata": {
    "pycharm": {
     "name": "#%%\n"
    }
   },
   "outputs": [
    {
     "data": {
      "image/png": "[encoded data removed]",
      "text/plain": [
       "<Figure size 1440x1080 with 9 Axes>"
      ]
     },
     "metadata": {
      "needs_background": "light"
     },
     "output_type": "display_data"
    }
   ],
   "source": [
    "data2[data2[\"Class\"]==\"adi\"].hist(figsize=(20,15));"
   ]
  },
  {
   "cell_type": "code",
   "execution_count": 23,
   "id": "ab2b6d85-6c81-4a68-9804-96e5b5d3a07d",
   "metadata": {
    "pycharm": {
     "name": "#%%\n"
    }
   },
   "outputs": [
    {
     "data": {
      "image/png": "[encoded data removed]",
      "text/plain": [
       "<Figure size 1440x1080 with 9 Axes>"
      ]
     },
     "metadata": {
      "needs_background": "light"
     },
     "output_type": "display_data"
    }
   ],
   "source": [
    "axes = data2.hist(figsize=(20,15), label=\"All classes\");\n",
    "data2[data2[\"Class\"]==\"car\"].hist(ax=axes, label=\"Carcinoma\", alpha=0.9);\n",
    "data2[data2[\"Class\"]==\"fad\"].hist(ax=axes, label=\"Fibro-adenoma\", alpha=0.6);\n",
    "for row in axes:\n",
    "    for ax in row:\n",
    "        ax.legend(fontsize=\"x-large\")\n",
    "        ax.title.set_size(20)"
   ]
  },
  {
   "cell_type": "markdown",
   "id": "72951cfa-8f6f-4ff6-9df2-78d5b51afdbc",
   "metadata": {
    "pycharm": {
     "name": "#%% md\n"
    }
   },
   "source": [
    "## Zakresy zmienności cech"
   ]
  },
  {
   "cell_type": "markdown",
   "id": "44ed141b-f1d0-4088-9994-73f174cb737c",
   "metadata": {
    "pycharm": {
     "name": "#%% md\n"
    }
   },
   "source": [
    "Przed usunięciem outlierów"
   ]
  },
  {
   "cell_type": "code",
   "execution_count": 24,
   "id": "1e8eb32b-7902-491f-98b2-7cc29b6eb488",
   "metadata": {
    "pycharm": {
     "name": "#%%\n"
    }
   },
   "outputs": [
    {
     "data": {
      "text/html": [
       "<div>\n",
       "<style scoped>\n",
       "    .dataframe tbody tr th:only-of-type {\n",
       "        vertical-align: middle;\n",
       "    }\n",
       "\n",
       "    .dataframe tbody tr th {\n",
       "        vertical-align: top;\n",
       "    }\n",
       "\n",
       "    .dataframe thead th {\n",
       "        text-align: right;\n",
       "    }\n",
       "</style>\n",
       "<table border=\"1\" class=\"dataframe\">\n",
       "  <thead>\n",
       "    <tr style=\"text-align: right;\">\n",
       "      <th></th>\n",
       "      <th>I0</th>\n",
       "      <th>PA500</th>\n",
       "      <th>HFS</th>\n",
       "      <th>DA</th>\n",
       "      <th>Area</th>\n",
       "      <th>A/DA</th>\n",
       "      <th>Max IP</th>\n",
       "      <th>DR</th>\n",
       "      <th>P</th>\n",
       "    </tr>\n",
       "  </thead>\n",
       "  <tbody>\n",
       "    <tr>\n",
       "      <th>amin</th>\n",
       "      <td>103.0</td>\n",
       "      <td>0.0124</td>\n",
       "      <td>-0.0663</td>\n",
       "      <td>19.6477</td>\n",
       "      <td>70.4262</td>\n",
       "      <td>1.5957</td>\n",
       "      <td>7.9688</td>\n",
       "      <td>-9.2577</td>\n",
       "      <td>124.9786</td>\n",
       "    </tr>\n",
       "    <tr>\n",
       "      <th>amax</th>\n",
       "      <td>2800.0</td>\n",
       "      <td>0.3583</td>\n",
       "      <td>0.4677</td>\n",
       "      <td>1063.4414</td>\n",
       "      <td>174480.4762</td>\n",
       "      <td>164.0715</td>\n",
       "      <td>436.0996</td>\n",
       "      <td>977.5524</td>\n",
       "      <td>2896.5825</td>\n",
       "    </tr>\n",
       "  </tbody>\n",
       "</table>\n",
       "</div>"
      ],
      "text/plain": [
       "          I0   PA500     HFS         DA         Area      A/DA    Max IP  \\\n",
       "amin   103.0  0.0124 -0.0663    19.6477      70.4262    1.5957    7.9688   \n",
       "amax  2800.0  0.3583  0.4677  1063.4414  174480.4762  164.0715  436.0996   \n",
       "\n",
       "            DR          P  \n",
       "amin   -9.2577   124.9786  \n",
       "amax  977.5524  2896.5825  "
      ]
     },
     "execution_count": 24,
     "metadata": {},
     "output_type": "execute_result"
    }
   ],
   "source": [
    "data.iloc[:,1:].agg(func=[np.min, np.max]).round(4)"
   ]
  },
  {
   "cell_type": "code",
   "execution_count": 25,
   "id": "e238750d-e07f-4d1b-9e72-0ef855e153de",
   "metadata": {
    "pycharm": {
     "name": "#%%\n"
    }
   },
   "outputs": [
    {
     "data": {
      "text/html": [
       "<div>\n",
       "<style scoped>\n",
       "    .dataframe tbody tr th:only-of-type {\n",
       "        vertical-align: middle;\n",
       "    }\n",
       "\n",
       "    .dataframe tbody tr th {\n",
       "        vertical-align: top;\n",
       "    }\n",
       "\n",
       "    .dataframe thead th {\n",
       "        text-align: right;\n",
       "    }\n",
       "</style>\n",
       "<table border=\"1\" class=\"dataframe\">\n",
       "  <thead>\n",
       "    <tr style=\"text-align: right;\">\n",
       "      <th></th>\n",
       "      <th>Class</th>\n",
       "      <th>adi</th>\n",
       "      <th>car</th>\n",
       "      <th>con</th>\n",
       "      <th>fad</th>\n",
       "      <th>gla</th>\n",
       "      <th>mas</th>\n",
       "    </tr>\n",
       "  </thead>\n",
       "  <tbody>\n",
       "    <tr>\n",
       "      <th rowspan=\"2\" valign=\"top\">I0</th>\n",
       "      <th>amin</th>\n",
       "      <td>1600.0000</td>\n",
       "      <td>269.4959</td>\n",
       "      <td>649.3694</td>\n",
       "      <td>144.0000</td>\n",
       "      <td>103.0000</td>\n",
       "      <td>121.0000</td>\n",
       "    </tr>\n",
       "    <tr>\n",
       "      <th>amax</th>\n",
       "      <td>2800.0000</td>\n",
       "      <td>551.8793</td>\n",
       "      <td>1724.0899</td>\n",
       "      <td>355.0000</td>\n",
       "      <td>502.0000</td>\n",
       "      <td>544.6543</td>\n",
       "    </tr>\n",
       "    <tr>\n",
       "      <th rowspan=\"2\" valign=\"top\">PA500</th>\n",
       "      <th>amin</th>\n",
       "      <td>0.0124</td>\n",
       "      <td>0.1442</td>\n",
       "      <td>0.0260</td>\n",
       "      <td>0.0201</td>\n",
       "      <td>0.0581</td>\n",
       "      <td>0.0454</td>\n",
       "    </tr>\n",
       "    <tr>\n",
       "      <th>amax</th>\n",
       "      <td>0.2005</td>\n",
       "      <td>0.3583</td>\n",
       "      <td>0.1075</td>\n",
       "      <td>0.1890</td>\n",
       "      <td>0.1658</td>\n",
       "      <td>0.2323</td>\n",
       "    </tr>\n",
       "    <tr>\n",
       "      <th rowspan=\"2\" valign=\"top\">HFS</th>\n",
       "      <th>amin</th>\n",
       "      <td>-0.0663</td>\n",
       "      <td>0.0321</td>\n",
       "      <td>-0.0209</td>\n",
       "      <td>-0.0154</td>\n",
       "      <td>0.0112</td>\n",
       "      <td>0.0000</td>\n",
       "    </tr>\n",
       "    <tr>\n",
       "      <th>amax</th>\n",
       "      <td>0.3777</td>\n",
       "      <td>0.4677</td>\n",
       "      <td>0.1452</td>\n",
       "      <td>0.1634</td>\n",
       "      <td>0.2918</td>\n",
       "      <td>0.4377</td>\n",
       "    </tr>\n",
       "    <tr>\n",
       "      <th rowspan=\"2\" valign=\"top\">DA</th>\n",
       "      <th>amin</th>\n",
       "      <td>72.9311</td>\n",
       "      <td>74.6351</td>\n",
       "      <td>175.0197</td>\n",
       "      <td>19.6477</td>\n",
       "      <td>20.5885</td>\n",
       "      <td>24.4372</td>\n",
       "    </tr>\n",
       "    <tr>\n",
       "      <th>amax</th>\n",
       "      <td>1063.4414</td>\n",
       "      <td>264.8049</td>\n",
       "      <td>640.2760</td>\n",
       "      <td>89.5585</td>\n",
       "      <td>150.2240</td>\n",
       "      <td>157.8842</td>\n",
       "    </tr>\n",
       "    <tr>\n",
       "      <th rowspan=\"2\" valign=\"top\">Area</th>\n",
       "      <th>amin</th>\n",
       "      <td>1402.2317</td>\n",
       "      <td>1189.5452</td>\n",
       "      <td>304.2707</td>\n",
       "      <td>70.4262</td>\n",
       "      <td>78.2585</td>\n",
       "      <td>144.4665</td>\n",
       "    </tr>\n",
       "    <tr>\n",
       "      <th>amax</th>\n",
       "      <td>174480.4762</td>\n",
       "      <td>11888.3918</td>\n",
       "      <td>11852.4851</td>\n",
       "      <td>1370.8381</td>\n",
       "      <td>2657.9104</td>\n",
       "      <td>5305.1232</td>\n",
       "    </tr>\n",
       "    <tr>\n",
       "      <th rowspan=\"2\" valign=\"top\">A/DA</th>\n",
       "      <th>amin</th>\n",
       "      <td>14.6355</td>\n",
       "      <td>15.9382</td>\n",
       "      <td>1.5957</td>\n",
       "      <td>2.8699</td>\n",
       "      <td>2.7573</td>\n",
       "      <td>3.1611</td>\n",
       "    </tr>\n",
       "    <tr>\n",
       "      <th>amax</th>\n",
       "      <td>164.0715</td>\n",
       "      <td>44.8949</td>\n",
       "      <td>43.3871</td>\n",
       "      <td>19.6491</td>\n",
       "      <td>17.6930</td>\n",
       "      <td>33.6014</td>\n",
       "    </tr>\n",
       "    <tr>\n",
       "      <th rowspan=\"2\" valign=\"top\">Max IP</th>\n",
       "      <th>amin</th>\n",
       "      <td>51.8548</td>\n",
       "      <td>35.6027</td>\n",
       "      <td>23.9757</td>\n",
       "      <td>7.9688</td>\n",
       "      <td>18.2265</td>\n",
       "      <td>9.1022</td>\n",
       "    </tr>\n",
       "    <tr>\n",
       "      <th>amax</th>\n",
       "      <td>436.0996</td>\n",
       "      <td>96.5634</td>\n",
       "      <td>143.0922</td>\n",
       "      <td>43.6919</td>\n",
       "      <td>47.5606</td>\n",
       "      <td>49.3279</td>\n",
       "    </tr>\n",
       "    <tr>\n",
       "      <th rowspan=\"2\" valign=\"top\">DR</th>\n",
       "      <th>amin</th>\n",
       "      <td>-9.2577</td>\n",
       "      <td>65.5413</td>\n",
       "      <td>143.2578</td>\n",
       "      <td>7.5695</td>\n",
       "      <td>5.7205</td>\n",
       "      <td>10.5947</td>\n",
       "    </tr>\n",
       "    <tr>\n",
       "      <th>amax</th>\n",
       "      <td>977.5524</td>\n",
       "      <td>253.7853</td>\n",
       "      <td>632.1651</td>\n",
       "      <td>86.5766</td>\n",
       "      <td>142.4965</td>\n",
       "      <td>150.9169</td>\n",
       "    </tr>\n",
       "    <tr>\n",
       "      <th rowspan=\"2\" valign=\"top\">P</th>\n",
       "      <th>amin</th>\n",
       "      <td>1475.3715</td>\n",
       "      <td>329.0906</td>\n",
       "      <td>528.6992</td>\n",
       "      <td>160.3738</td>\n",
       "      <td>124.9786</td>\n",
       "      <td>141.7662</td>\n",
       "    </tr>\n",
       "    <tr>\n",
       "      <th>amax</th>\n",
       "      <td>2896.5825</td>\n",
       "      <td>656.7694</td>\n",
       "      <td>1524.6092</td>\n",
       "      <td>385.1335</td>\n",
       "      <td>544.0394</td>\n",
       "      <td>553.3582</td>\n",
       "    </tr>\n",
       "  </tbody>\n",
       "</table>\n",
       "</div>"
      ],
      "text/plain": [
       "Class                adi         car         con        fad        gla  \\\n",
       "I0     amin    1600.0000    269.4959    649.3694   144.0000   103.0000   \n",
       "       amax    2800.0000    551.8793   1724.0899   355.0000   502.0000   \n",
       "PA500  amin       0.0124      0.1442      0.0260     0.0201     0.0581   \n",
       "       amax       0.2005      0.3583      0.1075     0.1890     0.1658   \n",
       "HFS    amin      -0.0663      0.0321     -0.0209    -0.0154     0.0112   \n",
       "       amax       0.3777      0.4677      0.1452     0.1634     0.2918   \n",
       "DA     amin      72.9311     74.6351    175.0197    19.6477    20.5885   \n",
       "       amax    1063.4414    264.8049    640.2760    89.5585   150.2240   \n",
       "Area   amin    1402.2317   1189.5452    304.2707    70.4262    78.2585   \n",
       "       amax  174480.4762  11888.3918  11852.4851  1370.8381  2657.9104   \n",
       "A/DA   amin      14.6355     15.9382      1.5957     2.8699     2.7573   \n",
       "       amax     164.0715     44.8949     43.3871    19.6491    17.6930   \n",
       "Max IP amin      51.8548     35.6027     23.9757     7.9688    18.2265   \n",
       "       amax     436.0996     96.5634    143.0922    43.6919    47.5606   \n",
       "DR     amin      -9.2577     65.5413    143.2578     7.5695     5.7205   \n",
       "       amax     977.5524    253.7853    632.1651    86.5766   142.4965   \n",
       "P      amin    1475.3715    329.0906    528.6992   160.3738   124.9786   \n",
       "       amax    2896.5825    656.7694   1524.6092   385.1335   544.0394   \n",
       "\n",
       "Class              mas  \n",
       "I0     amin   121.0000  \n",
       "       amax   544.6543  \n",
       "PA500  amin     0.0454  \n",
       "       amax     0.2323  \n",
       "HFS    amin     0.0000  \n",
       "       amax     0.4377  \n",
       "DA     amin    24.4372  \n",
       "       amax   157.8842  \n",
       "Area   amin   144.4665  \n",
       "       amax  5305.1232  \n",
       "A/DA   amin     3.1611  \n",
       "       amax    33.6014  \n",
       "Max IP amin     9.1022  \n",
       "       amax    49.3279  \n",
       "DR     amin    10.5947  \n",
       "       amax   150.9169  \n",
       "P      amin   141.7662  \n",
       "       amax   553.3582  "
      ]
     },
     "execution_count": 25,
     "metadata": {},
     "output_type": "execute_result"
    }
   ],
   "source": [
    "data.groupby(\"Class\").aggregate(func=[np.min, np.max]).round(4).T"
   ]
  },
  {
   "cell_type": "markdown",
   "id": "2de5d800-0ba9-4d0e-9382-a7d1881f13ea",
   "metadata": {
    "pycharm": {
     "name": "#%% md\n"
    }
   },
   "source": [
    "Po usunięciu outlierów"
   ]
  },
  {
   "cell_type": "code",
   "execution_count": 26,
   "id": "ab83b457-a971-4bb8-8497-29c291e0121b",
   "metadata": {
    "pycharm": {
     "name": "#%%\n"
    }
   },
   "outputs": [
    {
     "data": {
      "text/html": [
       "<div>\n",
       "<style scoped>\n",
       "    .dataframe tbody tr th:only-of-type {\n",
       "        vertical-align: middle;\n",
       "    }\n",
       "\n",
       "    .dataframe tbody tr th {\n",
       "        vertical-align: top;\n",
       "    }\n",
       "\n",
       "    .dataframe thead th {\n",
       "        text-align: right;\n",
       "    }\n",
       "</style>\n",
       "<table border=\"1\" class=\"dataframe\">\n",
       "  <thead>\n",
       "    <tr style=\"text-align: right;\">\n",
       "      <th></th>\n",
       "      <th>I0</th>\n",
       "      <th>PA500</th>\n",
       "      <th>HFS</th>\n",
       "      <th>DA</th>\n",
       "      <th>Area</th>\n",
       "      <th>A/DA</th>\n",
       "      <th>Max IP</th>\n",
       "      <th>DR</th>\n",
       "      <th>P</th>\n",
       "    </tr>\n",
       "  </thead>\n",
       "  <tbody>\n",
       "    <tr>\n",
       "      <th>amin</th>\n",
       "      <td>103.0</td>\n",
       "      <td>0.0124</td>\n",
       "      <td>-0.0663</td>\n",
       "      <td>19.6477</td>\n",
       "      <td>70.4262</td>\n",
       "      <td>1.5957</td>\n",
       "      <td>7.9688</td>\n",
       "      <td>-9.2577</td>\n",
       "      <td>124.9786</td>\n",
       "    </tr>\n",
       "    <tr>\n",
       "      <th>amax</th>\n",
       "      <td>2800.0</td>\n",
       "      <td>0.3583</td>\n",
       "      <td>0.4677</td>\n",
       "      <td>745.4744</td>\n",
       "      <td>40087.9210</td>\n",
       "      <td>102.2030</td>\n",
       "      <td>436.0996</td>\n",
       "      <td>729.3684</td>\n",
       "      <td>2896.5825</td>\n",
       "    </tr>\n",
       "  </tbody>\n",
       "</table>\n",
       "</div>"
      ],
      "text/plain": [
       "          I0   PA500     HFS        DA        Area      A/DA    Max IP  \\\n",
       "amin   103.0  0.0124 -0.0663   19.6477     70.4262    1.5957    7.9688   \n",
       "amax  2800.0  0.3583  0.4677  745.4744  40087.9210  102.2030  436.0996   \n",
       "\n",
       "            DR          P  \n",
       "amin   -9.2577   124.9786  \n",
       "amax  729.3684  2896.5825  "
      ]
     },
     "execution_count": 26,
     "metadata": {},
     "output_type": "execute_result"
    }
   ],
   "source": [
    "data2.iloc[:,1:].agg(func=[np.min, np.max]).round(4)"
   ]
  },
  {
   "cell_type": "code",
   "execution_count": 27,
   "id": "26a6bc7a-9fd9-4f22-aba2-4de0c01bd3fa",
   "metadata": {
    "pycharm": {
     "name": "#%%\n"
    }
   },
   "outputs": [
    {
     "data": {
      "text/html": [
       "<div>\n",
       "<style scoped>\n",
       "    .dataframe tbody tr th:only-of-type {\n",
       "        vertical-align: middle;\n",
       "    }\n",
       "\n",
       "    .dataframe tbody tr th {\n",
       "        vertical-align: top;\n",
       "    }\n",
       "\n",
       "    .dataframe thead th {\n",
       "        text-align: right;\n",
       "    }\n",
       "</style>\n",
       "<table border=\"1\" class=\"dataframe\">\n",
       "  <thead>\n",
       "    <tr style=\"text-align: right;\">\n",
       "      <th></th>\n",
       "      <th>Class</th>\n",
       "      <th>adi</th>\n",
       "      <th>car</th>\n",
       "      <th>con</th>\n",
       "      <th>fad</th>\n",
       "      <th>gla</th>\n",
       "      <th>mas</th>\n",
       "    </tr>\n",
       "  </thead>\n",
       "  <tbody>\n",
       "    <tr>\n",
       "      <th rowspan=\"2\" valign=\"top\">I0</th>\n",
       "      <th>amin</th>\n",
       "      <td>1600.0000</td>\n",
       "      <td>269.4959</td>\n",
       "      <td>649.3694</td>\n",
       "      <td>144.0000</td>\n",
       "      <td>103.0000</td>\n",
       "      <td>121.0000</td>\n",
       "    </tr>\n",
       "    <tr>\n",
       "      <th>amax</th>\n",
       "      <td>2800.0000</td>\n",
       "      <td>551.8793</td>\n",
       "      <td>1724.0899</td>\n",
       "      <td>355.0000</td>\n",
       "      <td>502.0000</td>\n",
       "      <td>544.6543</td>\n",
       "    </tr>\n",
       "    <tr>\n",
       "      <th rowspan=\"2\" valign=\"top\">PA500</th>\n",
       "      <th>amin</th>\n",
       "      <td>0.0124</td>\n",
       "      <td>0.1442</td>\n",
       "      <td>0.0260</td>\n",
       "      <td>0.0201</td>\n",
       "      <td>0.0581</td>\n",
       "      <td>0.0454</td>\n",
       "    </tr>\n",
       "    <tr>\n",
       "      <th>amax</th>\n",
       "      <td>0.1216</td>\n",
       "      <td>0.3583</td>\n",
       "      <td>0.1075</td>\n",
       "      <td>0.1890</td>\n",
       "      <td>0.1658</td>\n",
       "      <td>0.2323</td>\n",
       "    </tr>\n",
       "    <tr>\n",
       "      <th rowspan=\"2\" valign=\"top\">HFS</th>\n",
       "      <th>amin</th>\n",
       "      <td>-0.0663</td>\n",
       "      <td>0.0321</td>\n",
       "      <td>-0.0209</td>\n",
       "      <td>-0.0154</td>\n",
       "      <td>0.0112</td>\n",
       "      <td>0.0000</td>\n",
       "    </tr>\n",
       "    <tr>\n",
       "      <th>amax</th>\n",
       "      <td>0.3777</td>\n",
       "      <td>0.4677</td>\n",
       "      <td>0.1452</td>\n",
       "      <td>0.1634</td>\n",
       "      <td>0.2918</td>\n",
       "      <td>0.4377</td>\n",
       "    </tr>\n",
       "    <tr>\n",
       "      <th rowspan=\"2\" valign=\"top\">DA</th>\n",
       "      <th>amin</th>\n",
       "      <td>72.9311</td>\n",
       "      <td>74.6351</td>\n",
       "      <td>175.0197</td>\n",
       "      <td>19.6477</td>\n",
       "      <td>20.5885</td>\n",
       "      <td>24.4372</td>\n",
       "    </tr>\n",
       "    <tr>\n",
       "      <th>amax</th>\n",
       "      <td>745.4744</td>\n",
       "      <td>264.8049</td>\n",
       "      <td>640.2760</td>\n",
       "      <td>89.5585</td>\n",
       "      <td>53.5996</td>\n",
       "      <td>157.8842</td>\n",
       "    </tr>\n",
       "    <tr>\n",
       "      <th rowspan=\"2\" valign=\"top\">Area</th>\n",
       "      <th>amin</th>\n",
       "      <td>1402.2317</td>\n",
       "      <td>1189.5452</td>\n",
       "      <td>304.2707</td>\n",
       "      <td>70.4262</td>\n",
       "      <td>78.2585</td>\n",
       "      <td>144.4665</td>\n",
       "    </tr>\n",
       "    <tr>\n",
       "      <th>amax</th>\n",
       "      <td>40087.9210</td>\n",
       "      <td>11888.3918</td>\n",
       "      <td>11852.4851</td>\n",
       "      <td>1370.8381</td>\n",
       "      <td>834.2727</td>\n",
       "      <td>5305.1232</td>\n",
       "    </tr>\n",
       "    <tr>\n",
       "      <th rowspan=\"2\" valign=\"top\">A/DA</th>\n",
       "      <th>amin</th>\n",
       "      <td>14.6355</td>\n",
       "      <td>15.9382</td>\n",
       "      <td>1.5957</td>\n",
       "      <td>2.8699</td>\n",
       "      <td>2.7573</td>\n",
       "      <td>3.1611</td>\n",
       "    </tr>\n",
       "    <tr>\n",
       "      <th>amax</th>\n",
       "      <td>102.2030</td>\n",
       "      <td>44.8949</td>\n",
       "      <td>43.3871</td>\n",
       "      <td>19.6491</td>\n",
       "      <td>15.6702</td>\n",
       "      <td>33.6014</td>\n",
       "    </tr>\n",
       "    <tr>\n",
       "      <th rowspan=\"2\" valign=\"top\">Max IP</th>\n",
       "      <th>amin</th>\n",
       "      <td>51.8548</td>\n",
       "      <td>35.6027</td>\n",
       "      <td>23.9757</td>\n",
       "      <td>7.9688</td>\n",
       "      <td>18.2265</td>\n",
       "      <td>9.1022</td>\n",
       "    </tr>\n",
       "    <tr>\n",
       "      <th>amax</th>\n",
       "      <td>436.0996</td>\n",
       "      <td>96.5634</td>\n",
       "      <td>143.0922</td>\n",
       "      <td>43.6919</td>\n",
       "      <td>33.3311</td>\n",
       "      <td>49.3279</td>\n",
       "    </tr>\n",
       "    <tr>\n",
       "      <th rowspan=\"2\" valign=\"top\">DR</th>\n",
       "      <th>amin</th>\n",
       "      <td>-9.2577</td>\n",
       "      <td>65.5413</td>\n",
       "      <td>143.2578</td>\n",
       "      <td>7.5695</td>\n",
       "      <td>5.7205</td>\n",
       "      <td>10.5947</td>\n",
       "    </tr>\n",
       "    <tr>\n",
       "      <th>amax</th>\n",
       "      <td>729.3684</td>\n",
       "      <td>253.7853</td>\n",
       "      <td>632.1651</td>\n",
       "      <td>86.5766</td>\n",
       "      <td>48.5130</td>\n",
       "      <td>150.9169</td>\n",
       "    </tr>\n",
       "    <tr>\n",
       "      <th rowspan=\"2\" valign=\"top\">P</th>\n",
       "      <th>amin</th>\n",
       "      <td>1475.3715</td>\n",
       "      <td>329.0906</td>\n",
       "      <td>528.6992</td>\n",
       "      <td>160.3738</td>\n",
       "      <td>124.9786</td>\n",
       "      <td>141.7662</td>\n",
       "    </tr>\n",
       "    <tr>\n",
       "      <th>amax</th>\n",
       "      <td>2896.5825</td>\n",
       "      <td>656.7694</td>\n",
       "      <td>1524.6092</td>\n",
       "      <td>385.1335</td>\n",
       "      <td>544.0394</td>\n",
       "      <td>553.3582</td>\n",
       "    </tr>\n",
       "  </tbody>\n",
       "</table>\n",
       "</div>"
      ],
      "text/plain": [
       "Class               adi         car         con        fad       gla  \\\n",
       "I0     amin   1600.0000    269.4959    649.3694   144.0000  103.0000   \n",
       "       amax   2800.0000    551.8793   1724.0899   355.0000  502.0000   \n",
       "PA500  amin      0.0124      0.1442      0.0260     0.0201    0.0581   \n",
       "       amax      0.1216      0.3583      0.1075     0.1890    0.1658   \n",
       "HFS    amin     -0.0663      0.0321     -0.0209    -0.0154    0.0112   \n",
       "       amax      0.3777      0.4677      0.1452     0.1634    0.2918   \n",
       "DA     amin     72.9311     74.6351    175.0197    19.6477   20.5885   \n",
       "       amax    745.4744    264.8049    640.2760    89.5585   53.5996   \n",
       "Area   amin   1402.2317   1189.5452    304.2707    70.4262   78.2585   \n",
       "       amax  40087.9210  11888.3918  11852.4851  1370.8381  834.2727   \n",
       "A/DA   amin     14.6355     15.9382      1.5957     2.8699    2.7573   \n",
       "       amax    102.2030     44.8949     43.3871    19.6491   15.6702   \n",
       "Max IP amin     51.8548     35.6027     23.9757     7.9688   18.2265   \n",
       "       amax    436.0996     96.5634    143.0922    43.6919   33.3311   \n",
       "DR     amin     -9.2577     65.5413    143.2578     7.5695    5.7205   \n",
       "       amax    729.3684    253.7853    632.1651    86.5766   48.5130   \n",
       "P      amin   1475.3715    329.0906    528.6992   160.3738  124.9786   \n",
       "       amax   2896.5825    656.7694   1524.6092   385.1335  544.0394   \n",
       "\n",
       "Class              mas  \n",
       "I0     amin   121.0000  \n",
       "       amax   544.6543  \n",
       "PA500  amin     0.0454  \n",
       "       amax     0.2323  \n",
       "HFS    amin     0.0000  \n",
       "       amax     0.4377  \n",
       "DA     amin    24.4372  \n",
       "       amax   157.8842  \n",
       "Area   amin   144.4665  \n",
       "       amax  5305.1232  \n",
       "A/DA   amin     3.1611  \n",
       "       amax    33.6014  \n",
       "Max IP amin     9.1022  \n",
       "       amax    49.3279  \n",
       "DR     amin    10.5947  \n",
       "       amax   150.9169  \n",
       "P      amin   141.7662  \n",
       "       amax   553.3582  "
      ]
     },
     "execution_count": 27,
     "metadata": {},
     "output_type": "execute_result"
    }
   ],
   "source": [
    "data2.groupby(\"Class\").aggregate(func=[np.min, np.max]).round(4).T"
   ]
  },
  {
   "cell_type": "markdown",
   "id": "93c340ff-5af9-48c5-80fc-498b8c47afe7",
   "metadata": {
    "pycharm": {
     "name": "#%% md\n"
    }
   },
   "source": [
    "### Podział zbioru na dane uczące i wektor pożądanych odpowiedzi sieci"
   ]
  },
  {
   "cell_type": "code",
   "execution_count": 28,
   "id": "87ba0090-4c25-44bf-b656-f5dfc9d25ae0",
   "metadata": {
    "pycharm": {
     "name": "#%%\n"
    }
   },
   "outputs": [],
   "source": [
    "data2_y = data2[\"Class\"] #pozadane odpowiedzi\n",
    "data2_X = data2.iloc[:,1:] #dane uczace"
   ]
  },
  {
   "cell_type": "code",
   "execution_count": 29,
   "id": "0f457a0f-4a86-445f-a98b-e5f216d273c4",
   "metadata": {
    "pycharm": {
     "name": "#%%\n"
    }
   },
   "outputs": [
    {
     "data": {
      "text/plain": [
       "Case #\n",
       "1      car\n",
       "2      car\n",
       "3      car\n",
       "4      car\n",
       "5      car\n",
       "      ... \n",
       "101    adi\n",
       "102    adi\n",
       "104    adi\n",
       "105    adi\n",
       "106    adi\n",
       "Name: Class, Length: 104, dtype: object"
      ]
     },
     "execution_count": 29,
     "metadata": {},
     "output_type": "execute_result"
    }
   ],
   "source": [
    "data2_y"
   ]
  },
  {
   "cell_type": "markdown",
   "id": "232a1aba-e668-43ad-a782-90cc69f4f6c7",
   "metadata": {
    "pycharm": {
     "name": "#%% md\n"
    }
   },
   "source": [
    "### Normalizacja typu min-max"
   ]
  },
  {
   "cell_type": "code",
   "execution_count": 30,
   "id": "f61c62b4-8595-440a-95e6-6dc313f1158f",
   "metadata": {
    "pycharm": {
     "name": "#%%\n"
    }
   },
   "outputs": [
    {
     "data": {
      "text/html": [
       "<div>\n",
       "<style scoped>\n",
       "    .dataframe tbody tr th:only-of-type {\n",
       "        vertical-align: middle;\n",
       "    }\n",
       "\n",
       "    .dataframe tbody tr th {\n",
       "        vertical-align: top;\n",
       "    }\n",
       "\n",
       "    .dataframe thead th {\n",
       "        text-align: right;\n",
       "    }\n",
       "</style>\n",
       "<table border=\"1\" class=\"dataframe\">\n",
       "  <thead>\n",
       "    <tr style=\"text-align: right;\">\n",
       "      <th></th>\n",
       "      <th>I0</th>\n",
       "      <th>PA500</th>\n",
       "      <th>HFS</th>\n",
       "      <th>DA</th>\n",
       "      <th>Area</th>\n",
       "      <th>A/DA</th>\n",
       "      <th>Max IP</th>\n",
       "      <th>DR</th>\n",
       "      <th>P</th>\n",
       "    </tr>\n",
       "    <tr>\n",
       "      <th>Case #</th>\n",
       "      <th></th>\n",
       "      <th></th>\n",
       "      <th></th>\n",
       "      <th></th>\n",
       "      <th></th>\n",
       "      <th></th>\n",
       "      <th></th>\n",
       "      <th></th>\n",
       "      <th></th>\n",
       "    </tr>\n",
       "  </thead>\n",
       "  <tbody>\n",
       "    <tr>\n",
       "      <th>1</th>\n",
       "      <td>0.156394</td>\n",
       "      <td>0.506054</td>\n",
       "      <td>0.184314</td>\n",
       "      <td>0.288158</td>\n",
       "      <td>0.169255</td>\n",
       "      <td>0.281441</td>\n",
       "      <td>0.122010</td>\n",
       "      <td>0.311382</td>\n",
       "      <td>0.155812</td>\n",
       "    </tr>\n",
       "    <tr>\n",
       "      <th>2</th>\n",
       "      <td>0.084168</td>\n",
       "      <td>0.620081</td>\n",
       "      <td>0.620915</td>\n",
       "      <td>0.139850</td>\n",
       "      <td>0.077287</td>\n",
       "      <td>0.243655</td>\n",
       "      <td>0.144228</td>\n",
       "      <td>0.146681</td>\n",
       "      <td>0.099310</td>\n",
       "    </tr>\n",
       "    <tr>\n",
       "      <th>3</th>\n",
       "      <td>0.166437</td>\n",
       "      <td>0.636226</td>\n",
       "      <td>0.243137</td>\n",
       "      <td>0.337763</td>\n",
       "      <td>0.295320</td>\n",
       "      <td>0.430378</td>\n",
       "      <td>0.163092</td>\n",
       "      <td>0.356125</td>\n",
       "      <td>0.191871</td>\n",
       "    </tr>\n",
       "    <tr>\n",
       "      <th>4</th>\n",
       "      <td>0.102707</td>\n",
       "      <td>0.660444</td>\n",
       "      <td>0.660131</td>\n",
       "      <td>0.162563</td>\n",
       "      <td>0.133235</td>\n",
       "      <td>0.374255</td>\n",
       "      <td>0.188703</td>\n",
       "      <td>0.154958</td>\n",
       "      <td>0.133036</td>\n",
       "    </tr>\n",
       "    <tr>\n",
       "      <th>5</th>\n",
       "      <td>0.096341</td>\n",
       "      <td>0.544400</td>\n",
       "      <td>0.581699</td>\n",
       "      <td>0.145028</td>\n",
       "      <td>0.080466</td>\n",
       "      <td>0.245970</td>\n",
       "      <td>0.143462</td>\n",
       "      <td>0.153155</td>\n",
       "      <td>0.108175</td>\n",
       "    </tr>\n",
       "    <tr>\n",
       "      <th>...</th>\n",
       "      <td>...</td>\n",
       "      <td>...</td>\n",
       "      <td>...</td>\n",
       "      <td>...</td>\n",
       "      <td>...</td>\n",
       "      <td>...</td>\n",
       "      <td>...</td>\n",
       "      <td>...</td>\n",
       "      <td>...</td>\n",
       "    </tr>\n",
       "    <tr>\n",
       "      <th>101</th>\n",
       "      <td>0.703374</td>\n",
       "      <td>0.158426</td>\n",
       "      <td>0.356863</td>\n",
       "      <td>0.427959</td>\n",
       "      <td>0.382599</td>\n",
       "      <td>0.447038</td>\n",
       "      <td>0.376589</td>\n",
       "      <td>0.396543</td>\n",
       "      <td>0.699268</td>\n",
       "    </tr>\n",
       "    <tr>\n",
       "      <th>102</th>\n",
       "      <td>0.703374</td>\n",
       "      <td>0.273461</td>\n",
       "      <td>0.321569</td>\n",
       "      <td>0.689662</td>\n",
       "      <td>1.000000</td>\n",
       "      <td>0.750079</td>\n",
       "      <td>0.458088</td>\n",
       "      <td>0.660381</td>\n",
       "      <td>0.708496</td>\n",
       "    </tr>\n",
       "    <tr>\n",
       "      <th>104</th>\n",
       "      <td>0.555061</td>\n",
       "      <td>0.172048</td>\n",
       "      <td>0.000000</td>\n",
       "      <td>0.574925</td>\n",
       "      <td>0.314485</td>\n",
       "      <td>0.272024</td>\n",
       "      <td>0.223679</td>\n",
       "      <td>0.597579</td>\n",
       "      <td>0.487224</td>\n",
       "    </tr>\n",
       "    <tr>\n",
       "      <th>105</th>\n",
       "      <td>0.814609</td>\n",
       "      <td>0.094349</td>\n",
       "      <td>0.380392</td>\n",
       "      <td>0.228427</td>\n",
       "      <td>0.125342</td>\n",
       "      <td>0.256757</td>\n",
       "      <td>0.398763</td>\n",
       "      <td>0.079676</td>\n",
       "      <td>0.849910</td>\n",
       "    </tr>\n",
       "    <tr>\n",
       "      <th>106</th>\n",
       "      <td>0.925844</td>\n",
       "      <td>0.166498</td>\n",
       "      <td>0.215686</td>\n",
       "      <td>1.000000</td>\n",
       "      <td>0.993949</td>\n",
       "      <td>0.515415</td>\n",
       "      <td>0.341377</td>\n",
       "      <td>1.000000</td>\n",
       "      <td>0.873300</td>\n",
       "    </tr>\n",
       "  </tbody>\n",
       "</table>\n",
       "<p>104 rows × 9 columns</p>\n",
       "</div>"
      ],
      "text/plain": [
       "              I0     PA500       HFS        DA      Area      A/DA    Max IP  \\\n",
       "Case #                                                                         \n",
       "1       0.156394  0.506054  0.184314  0.288158  0.169255  0.281441  0.122010   \n",
       "2       0.084168  0.620081  0.620915  0.139850  0.077287  0.243655  0.144228   \n",
       "3       0.166437  0.636226  0.243137  0.337763  0.295320  0.430378  0.163092   \n",
       "4       0.102707  0.660444  0.660131  0.162563  0.133235  0.374255  0.188703   \n",
       "5       0.096341  0.544400  0.581699  0.145028  0.080466  0.245970  0.143462   \n",
       "...          ...       ...       ...       ...       ...       ...       ...   \n",
       "101     0.703374  0.158426  0.356863  0.427959  0.382599  0.447038  0.376589   \n",
       "102     0.703374  0.273461  0.321569  0.689662  1.000000  0.750079  0.458088   \n",
       "104     0.555061  0.172048  0.000000  0.574925  0.314485  0.272024  0.223679   \n",
       "105     0.814609  0.094349  0.380392  0.228427  0.125342  0.256757  0.398763   \n",
       "106     0.925844  0.166498  0.215686  1.000000  0.993949  0.515415  0.341377   \n",
       "\n",
       "              DR         P  \n",
       "Case #                      \n",
       "1       0.311382  0.155812  \n",
       "2       0.146681  0.099310  \n",
       "3       0.356125  0.191871  \n",
       "4       0.154958  0.133036  \n",
       "5       0.153155  0.108175  \n",
       "...          ...       ...  \n",
       "101     0.396543  0.699268  \n",
       "102     0.660381  0.708496  \n",
       "104     0.597579  0.487224  \n",
       "105     0.079676  0.849910  \n",
       "106     1.000000  0.873300  \n",
       "\n",
       "[104 rows x 9 columns]"
      ]
     },
     "execution_count": 30,
     "metadata": {},
     "output_type": "execute_result"
    }
   ],
   "source": [
    "data2_X_normalized = (data2_X - data2_X.min())/(data2_X.max() - data2_X.min())\n",
    "data2_X_normalized"
   ]
  },
  {
   "cell_type": "markdown",
   "id": "fb9a5de9-541e-4f21-830b-9a49aa89da24",
   "metadata": {
    "pycharm": {
     "name": "#%% md\n"
    }
   },
   "source": [
    "### Mapowanie klas tkanek na liczby"
   ]
  },
  {
   "cell_type": "code",
   "execution_count": 31,
   "id": "ef51fa65-5980-4998-9d2f-530ad1177092",
   "metadata": {
    "pycharm": {
     "name": "#%%\n"
    }
   },
   "outputs": [
    {
     "data": {
      "text/plain": [
       "Case #\n",
       "1      1\n",
       "2      1\n",
       "3      1\n",
       "4      1\n",
       "5      1\n",
       "      ..\n",
       "101    6\n",
       "102    6\n",
       "104    6\n",
       "105    6\n",
       "106    6\n",
       "Name: Class, Length: 104, dtype: int64"
      ]
     },
     "execution_count": 31,
     "metadata": {},
     "output_type": "execute_result"
    }
   ],
   "source": [
    "classes_dict = {\"car\":1, \"fad\":2, \"mas\":3, \"gla\":4, \"con\":5, \"adi\":6}\n",
    "data2_y = data2_y.replace(classes_dict)\n",
    "data2_y"
   ]
  },
  {
   "cell_type": "markdown",
   "id": "8445ae6f-1925-4df1-9913-026826005a94",
   "metadata": {
    "pycharm": {
     "name": "#%% md\n"
    }
   },
   "source": [
    "### Dobór odpowiedniej funkcji straty do problemu - porównanie MSE i Cross-Entropy"
   ]
  },
  {
   "cell_type": "code",
   "execution_count": 32,
   "id": "39d27dbe-1881-438e-bf9d-c8bafacde897",
   "metadata": {
    "pycharm": {
     "name": "#%%\n"
    }
   },
   "outputs": [],
   "source": [
    "def mse(y, d) -> float:\n",
    "    \"\"\"\n",
    "    Funkcja błędu średniokwadratowego\n",
    "    y - predykcja wartości\n",
    "    d - wartość rzeczywista\n",
    "    \"\"\"\n",
    "    assert y.shape[0] == d.shape[0], f\"Dimensions of y and d doesn't match. Got y.shape[0]={y.shape[0]} and d.shape[0]={d.shape[0]}\"\n",
    "    \n",
    "    return np.mean(np.power(y-d, 2))"
   ]
  },
  {
   "cell_type": "code",
   "execution_count": null,
   "id": "08b81027-301b-4e0d-a402-af981c874e25",
   "metadata": {
    "pycharm": {
     "name": "#%%\n"
    }
   },
   "outputs": [],
   "source": []
  },
  {
   "cell_type": "code",
   "execution_count": 33,
   "id": "86d0757c-4a1d-4880-8582-804956c7f642",
   "metadata": {
    "pycharm": {
     "name": "#%%\n"
    }
   },
   "outputs": [
    {
     "data": {
      "text/plain": [
       "0.12666666666666668"
      ]
     },
     "execution_count": 33,
     "metadata": {},
     "output_type": "execute_result"
    }
   ],
   "source": [
    "y = np.array([0.5, 0.3, 0.2])\n",
    "d = np.array([1, 0, 0])\n",
    "mse(y, d)"
   ]
  },
  {
   "cell_type": "code",
   "execution_count": 34,
   "id": "5391f251-cece-4ab0-803f-5fb54abc3a98",
   "metadata": {
    "pycharm": {
     "name": "#%%\n"
    }
   },
   "outputs": [],
   "source": [
    "def cross_entropy_loss(y: ndarray, d: float, eps: float = 1e-9) -> float:\n",
    "    return -d * np.log(y + eps) - (1-d) * np.log(1-y + eps)"
   ]
  },
  {
   "cell_type": "code",
   "execution_count": 35,
   "id": "9cd27950-99e3-420b-a0f5-3e756bd2962e",
   "metadata": {
    "pycharm": {
     "name": "#%%\n"
    }
   },
   "outputs": [
    {
     "data": {
      "image/png": "[encoded data removed]",
      "text/plain": [
       "<Figure size 864x576 with 1 Axes>"
      ]
     },
     "metadata": {
      "needs_background": "light"
     },
     "output_type": "display_data"
    }
   ],
   "source": [
    "n = np.linspace(0,1,1000)\n",
    "d = 0.0\n",
    "f, ax = plt.subplots(figsize=(12,8))\n",
    "ax.plot(n, np.power(n-d, 2), label=\"MSE\")\n",
    "ax.plot(n, cross_entropy_loss(n, d, eps=0.005), label=\"CE\")\n",
    "ax.set_title(\"Porównanie przebiegu funkcji MSE i CE w zakresie 0.0 < y < 1.0 oraz d = 0.0\", fontdict={\"size\":20})\n",
    "ax.set_xlabel(\"y\", fontdict={\"size\":20})\n",
    "ax.legend(fontsize=20);"
   ]
  },
  {
   "cell_type": "markdown",
   "id": "cca50f86-2cc8-4421-8109-24b0fabd0d39",
   "metadata": {
    "pycharm": {
     "name": "#%% md\n"
    }
   },
   "source": [
    "### Porównanie fukcji aktywacji sigmoid i tanh"
   ]
  },
  {
   "cell_type": "code",
   "execution_count": 36,
   "id": "aae7d61a-ed41-46f0-9857-de6b4eeadb21",
   "metadata": {
    "pycharm": {
     "name": "#%%\n"
    }
   },
   "outputs": [],
   "source": [
    "def sigmoid(x: ndarray, beta: float = 1.0) -> ndarray:\n",
    "    return 1/(1+np.exp(-beta*x))\n",
    "\n",
    "def tanh(x: ndarray, beta: float = 1.0) -> ndarray:\n",
    "    x_beta = beta * x\n",
    "    return (np.exp(x_beta) - np.exp(-x_beta))/(np.exp(x_beta) + np.exp(-x_beta))"
   ]
  },
  {
   "cell_type": "code",
   "execution_count": 37,
   "id": "e1bb2282-411a-415f-98f3-00471980630a",
   "metadata": {
    "pycharm": {
     "name": "#%%\n"
    }
   },
   "outputs": [
    {
     "data": {
      "image/png": "[encoded data removed]",
      "text/plain": [
       "<Figure size 432x288 with 1 Axes>"
      ]
     },
     "metadata": {
      "needs_background": "light"
     },
     "output_type": "display_data"
    }
   ],
   "source": [
    "x = np.linspace(-10,10,1000)\n",
    "plt.plot(x, sigmoid(x,1), label=r\"$\\sigma(x)$\")\n",
    "plt.plot(x, tanh(x,1), label=r\"$tanh(x)$\")\n",
    "plt.legend();"
   ]
  },
  {
   "cell_type": "code",
   "execution_count": 38,
   "id": "eab427d3-2a02-446f-ae08-9b2e940574a2",
   "metadata": {
    "pycharm": {
     "name": "#%%\n"
    }
   },
   "outputs": [],
   "source": [
    "def sigmoid_1st_deriv(x: ndarray, beta: float = 1.0):\n",
    "    return beta * sigmoid(x, beta) * (1 - sigmoid(x, beta))\n",
    "\n",
    "def tanh_1st_deriv(x: ndarray, beta: float = 1.0):\n",
    "    return beta * (1 + tanh(x, beta)) * (1 - tanh(x, beta))"
   ]
  },
  {
   "cell_type": "code",
   "execution_count": 39,
   "id": "4a5cb92e-91d2-4f3f-88cf-c83b7adad46e",
   "metadata": {
    "pycharm": {
     "name": "#%%\n"
    }
   },
   "outputs": [
    {
     "data": {
      "image/png": "[encoded data removed]",
      "text/plain": [
       "<Figure size 432x288 with 1 Axes>"
      ]
     },
     "metadata": {
      "needs_background": "light"
     },
     "output_type": "display_data"
    }
   ],
   "source": [
    "plt.plot(x, sigmoid_1st_deriv(x, 1), label=r\"$\\dfrac{d\\sigma}{dx}(x)$\")\n",
    "plt.plot(x, tanh_1st_deriv(x, 1), label=r\"$\\dfrac{dtanh}{dx}(x)$\")\n",
    "plt.legend();"
   ]
  },
  {
   "cell_type": "markdown",
   "id": "7f7cf06f-4b0b-43ff-8f88-e21889d1d312",
   "metadata": {
    "pycharm": {
     "name": "#%% md\n"
    }
   },
   "source": [
    "# Implementacja sieci"
   ]
  },
  {
   "cell_type": "markdown",
   "id": "76bac544",
   "metadata": {
    "pycharm": {
     "name": "#%% md\n"
    }
   },
   "source": [
    "Inicjalizacja RNG"
   ]
  },
  {
   "cell_type": "code",
   "execution_count": 40,
   "id": "0dc45e89",
   "metadata": {
    "collapsed": false,
    "jupyter": {
     "outputs_hidden": false
    },
    "pycharm": {
     "name": "#%%\n"
    }
   },
   "outputs": [],
   "source": [
    "seed = 30042022\n",
    "np.random.seed(seed)"
   ]
  },
  {
   "cell_type": "markdown",
   "id": "3aadb8c6",
   "metadata": {
    "pycharm": {
     "name": "#%% md\n"
    }
   },
   "source": [
    "### Funkcja sprawdzająca czy wymiary danych są jednakowe"
   ]
  },
  {
   "cell_type": "code",
   "execution_count": 41,
   "id": "65ea7a74-0f3b-4287-89f9-d21e75ca5a0e",
   "metadata": {
    "pycharm": {
     "name": "#%%\n"
    }
   },
   "outputs": [],
   "source": [
    "class ArrayShapeError(ValueError):\n",
    "    pass\n",
    "\n",
    "\n",
    "def check_same_shape(x1: ndarray, x2: ndarray):\n",
    "    if x1.shape != x2.shape:\n",
    "        raise ArrayShapeError(f\"Arrays must have the same shape, got: x1.shape={x1.shape} x2.shape={x2.shape}\")\n"
   ]
  },
  {
   "cell_type": "markdown",
   "id": "9c90ef5e",
   "metadata": {
    "pycharm": {
     "name": "#%% md\n"
    }
   },
   "source": [
    "## Klasa bazowa dla operacji matematycznej"
   ]
  },
  {
   "cell_type": "code",
   "execution_count": 42,
   "id": "f05e5065",
   "metadata": {
    "collapsed": false,
    "jupyter": {
     "outputs_hidden": false
    },
    "pycharm": {
     "name": "#%%\n"
    }
   },
   "outputs": [],
   "source": [
    "class Operation:\n",
    "    \"\"\"\n",
    "    Abstrakcyjna klasa bazowa reprezentująca pojedynczą operację\n",
    "     wykonywaną w sieci neuronowej (np. sigmoid, tanh, mnożenie przez wagi itp.).\n",
    "    \"\"\"\n",
    "    def __init__(self):\n",
    "        self.X = None\n",
    "        self.output = None\n",
    "        self.X_grad = None\n",
    "\n",
    "    def calc_output(self):\n",
    "        \"\"\"\n",
    "        Obliczenie wyjścia operacji.\n",
    "        :return:\n",
    "        \"\"\"\n",
    "        raise NotImplementedError(\"Method need to be implemented in a child class\")\n",
    "\n",
    "    def forward(self, X):\n",
    "        \"\"\"\n",
    "        Krok w przód.\n",
    "        :param x: Dane wejściowe operacji.\n",
    "        :return: Wynik działania operacji.\n",
    "        \"\"\"\n",
    "        self.X = X\n",
    "        self.output = self.calc_output()\n",
    "\n",
    "        return self.output\n",
    "\n",
    "    def calc_X_grad(self, output_grad):\n",
    "        \"\"\"\n",
    "        Obliczenie gradientu funkcji straty względem danych wejściowych operacji.\n",
    "        :param output_grad: Gradient funkcji straty względem wyjścia operacji (propagujący wtecz).\n",
    "        :return:\n",
    "        \"\"\"\n",
    "        raise NotImplementedError(\"Method need to be implemented in a child class\")\n",
    "\n",
    "    def backward(self, output_grad):\n",
    "        \"\"\"\n",
    "        Krok w tył w propagacji wstecz.\n",
    "        :param output_grad: Gradient funkcji straty względem wyjścia operacji (propagujący wtecz).\n",
    "        :return:\n",
    "        \"\"\"\n",
    "\n",
    "        # Sprawdzenie czy otrzymany z kolejnej operacji gradient ma wymiary zgodne z wyjściem\n",
    "        # bieżącej operacji.\n",
    "        check_same_shape(self.output, output_grad)\n",
    "\n",
    "        self.X_grad = self.calc_X_grad(output_grad)\n",
    "\n",
    "        # Sprawdzenie czy wymiary macierzy gradientu są zgodne z macierzą danych, do których się odnosi.\n",
    "        check_same_shape(self.X, self.X_grad)\n",
    "\n",
    "        return self.X_grad\n",
    "\n"
   ]
  },
  {
   "cell_type": "markdown",
   "id": "5df9ef6d",
   "metadata": {
    "pycharm": {
     "name": "#%% md\n"
    }
   },
   "source": [
    "### Operacja mnożenia macierzy"
   ]
  },
  {
   "cell_type": "code",
   "execution_count": 43,
   "id": "21cf4a3d",
   "metadata": {
    "collapsed": false,
    "jupyter": {
     "outputs_hidden": false
    },
    "pycharm": {
     "name": "#%%\n"
    }
   },
   "outputs": [],
   "source": [
    "class WeightsMultiplication(Operation):\n",
    "    \"\"\"\n",
    "    Klasa reprezentująca operację mnożenia danych przez wagi połączeń.\n",
    "    \"\"\"\n",
    "    def __init__(self, W):\n",
    "        super().__init__()\n",
    "        self.W = W\n",
    "        self.W_grad = None\n",
    "\n",
    "\n",
    "    def calc_output(self):\n",
    "        \"\"\"\n",
    "        Obliczenie wyniku mnożenia macierzy danych wejściowych przez wagi połączeń.\n",
    "        :return:\n",
    "        \"\"\"\n",
    "        if self.X.shape[1] != self.W.shape[0]:\n",
    "            raise ArrayShapeError(\"Number of columns in x must be the\"\n",
    "                                  \" same as the number of rows in w,\"\n",
    "                                  f\" got: x.shape[1]={self.X.shape[1]} and w.shape[0]={self.W.shape[0]}\")\n",
    "\n",
    "        return self.X @ self.W\n",
    "\n",
    "\n",
    "    def calc_X_grad(self, output_grad):\n",
    "        \"\"\"\n",
    "       Obliczenie gradientu funkcji straty względem danych wejściowych x warstwy w operacji mnożenia macierzy.\n",
    "       :param output_grad: Gradient funkcji straty względem wyjścia operacji (propagujący wtecz).\n",
    "       :return:\n",
    "       \"\"\"\n",
    "        return output_grad @ self.W.T\n",
    "\n",
    "    def calc_W_grad(self, output_grad):\n",
    "        \"\"\"\n",
    "        Obliczenie gradientu funkcji straty względem wag połączęń W w operacji mnożenia macierzy.\n",
    "        :param output_grad: Gradient funkcji straty względem wyjścia operacji (propagujący wtecz).\n",
    "        :return:\n",
    "        \"\"\"\n",
    "        return self.X.T @ output_grad\n",
    "\n",
    "    def backward(self, output_grad):\n",
    "        \"\"\"\n",
    "        Krok w tył w propagacji wstecz.\n",
    "        :param output_grad: Gradient funkcji straty względem wyjścia operacji (propagujący wtecz).\n",
    "        :return:\n",
    "        \"\"\"\n",
    "\n",
    "        # Sprawdzenie czy otrzymany z kolejnej operacji gradient ma wymiary zgodne z wyjściem\n",
    "        # bieżącej operacji.\n",
    "        check_same_shape(self.output, output_grad)\n",
    "\n",
    "        self.X_grad = self.calc_X_grad(output_grad)\n",
    "        self.W_grad = self.calc_W_grad(output_grad)\n",
    "\n",
    "        # Sprawdzenie czy wymiary gradientów są zgodne z macierzą danych, do których się odnoszą.\n",
    "        check_same_shape(self.X, self.X_grad)\n",
    "        check_same_shape(self.W, self.W_grad)\n",
    "\n",
    "        return self.X_grad, self.W_grad"
   ]
  },
  {
   "cell_type": "markdown",
   "id": "228d1bbf",
   "metadata": {
    "pycharm": {
     "name": "#%% md\n"
    }
   },
   "source": [
    "### Operacja dodawania polaryzacji neuronu"
   ]
  },
  {
   "cell_type": "code",
   "execution_count": 44,
   "id": "a495ce0b",
   "metadata": {
    "collapsed": false,
    "jupyter": {
     "outputs_hidden": false
    },
    "pycharm": {
     "name": "#%%\n"
    }
   },
   "outputs": [],
   "source": [
    "class AddBias(Operation):\n",
    "    \"\"\"\n",
    "    Klasa reprezentująca operację dodawania polaryzacji\n",
    "     do wyniku mnożenia danych przez wagi połączeń.\n",
    "    \"\"\"\n",
    "    def __init__(self, B):\n",
    "        \"\"\"\n",
    "        Inicjalizacja obiektu klasy AddBias.\n",
    "        :param B:\n",
    "        \"\"\"\n",
    "        super().__init__()\n",
    "        self.B = B\n",
    "\n",
    "    def calc_output(self):\n",
    "        \"\"\"\n",
    "        Dodanie polaryzacji do kombinacji liniowej neuronów.\n",
    "        :return:\n",
    "        \"\"\"\n",
    "        return self.X + self.B\n",
    "\n",
    "    def calc_X_grad(self, output_grad):\n",
    "        \"\"\"\n",
    "        Obliczenie gradientu funkcji straty względem danych wejściowych operacji dodawania polaryzacji.\n",
    "        :param output_grad: Gradient funkcji straty względem wyjścia operacji (propagujący wtecz).\n",
    "        :return:\n",
    "        \"\"\"\n",
    "        return np.ones_like(self.B) * output_grad\n",
    "\n",
    "    def calc_B_grad(self, output_grad):\n",
    "        \"\"\"\n",
    "        Obliczenie gradientu funkcji straty względem wartości polaryzacji w operacji dodawania polaryzacji.\n",
    "        :param output_grad: Gradient funkcji straty względem wyjścia operacji (propagujący wtecz).\n",
    "        :return:\n",
    "        \"\"\"\n",
    "        return (np.ones_like(self.output) * output_grad).sum(axis=0).reshape(1,-1)\n",
    "\n",
    "    def backward(self, output_grad):\n",
    "        \"\"\"\n",
    "        Krok w tył w propagacji wstecz.\n",
    "        :param output_grad: Gradient funkcji straty względem wyjścia operacji (propagujący wtecz).\n",
    "        :return:\n",
    "        \"\"\"\n",
    "\n",
    "        # Sprawdzenie czy otrzymany z kolejnej operacji gradient ma wymiary zgodne z wyjściem\n",
    "        # bieżącej operacji.\n",
    "        check_same_shape(self.output, output_grad)\n",
    "\n",
    "        self.X_grad = self.calc_X_grad(output_grad)\n",
    "        self.B_grad = self.calc_B_grad(output_grad)\n",
    "\n",
    "        # Sprawdzenie czy wymiary gradientów są zgodne z macierzą danych, do których się odnoszą.\n",
    "        check_same_shape(self.X, self.X_grad)\n",
    "        check_same_shape(self.B, self.B_grad)\n",
    "\n",
    "        return self.X_grad, self.B_grad"
   ]
  },
  {
   "cell_type": "markdown",
   "id": "03d5080f",
   "metadata": {
    "pycharm": {
     "name": "#%% md\n"
    }
   },
   "source": [
    "### Funkcja Tanh jako klasa przesyłająca dane do przodu sieci oraz gradient wstecz."
   ]
  },
  {
   "cell_type": "code",
   "execution_count": 45,
   "id": "39040cac",
   "metadata": {
    "collapsed": false,
    "jupyter": {
     "outputs_hidden": false
    },
    "pycharm": {
     "name": "#%%\n"
    }
   },
   "outputs": [],
   "source": [
    "class Tanh(Operation):\n",
    "    \"\"\"\n",
    "    Klasa reprezentująca funkcję aktywacji tangens hiperboliczny.\n",
    "    \"\"\"\n",
    "    def __init__(self, beta=1.0):\n",
    "        \"\"\"\n",
    "        Inicjalizacja obiektu klasy Tanh.\n",
    "        :param beta: parametr nachylenia funkcji tangens hiperboliczny\n",
    "        \"\"\"\n",
    "        super().__init__()\n",
    "        self.beta = beta\n",
    "\n",
    "    def calc_output(self):\n",
    "        \"\"\"\n",
    "        Zastosowanie funkcji tangens hiperboliczny do danych.\n",
    "        :return: wynik zastosowania funkcji tangens hiperboliczny do danych\n",
    "        \"\"\"\n",
    "        return np.tanh(self.X * self.beta)\n",
    "\n",
    "    def calc_X_grad(self, output_grad):\n",
    "        \"\"\"\n",
    "        Obliczenie gradientu funkcji straty względem danych\n",
    "         wejściowych funkcji tangens hiperboliczny.\n",
    "        :param output_grad: gradient funkcji straty podany z następnej operacji\n",
    "        :return: gradient funkcji straty względem danych\n",
    "         wejściowych funkcji tangens hiperboliczny\n",
    "        \"\"\"\n",
    "        grad = self.beta * (1 + self.output) * (1 - self.output)\n",
    "        return grad * output_grad"
   ]
  },
  {
   "cell_type": "markdown",
   "id": "19568de7",
   "metadata": {
    "pycharm": {
     "name": "#%% md\n"
    }
   },
   "source": [
    "### Klasa reprezentująca warstwę ukrytą sieci neuronowej złożoną z kolejnych operacji matematycznych"
   ]
  },
  {
   "cell_type": "code",
   "execution_count": 46,
   "id": "8c77c561",
   "metadata": {
    "collapsed": false,
    "jupyter": {
     "outputs_hidden": false
    },
    "pycharm": {
     "name": "#%%\n"
    }
   },
   "outputs": [],
   "source": [
    "class Layer:\n",
    "    \"\"\"\n",
    "    Klasa reprezentująca warstwę sieci neuronowej.\n",
    "    \"\"\"\n",
    "    def __init__(self, n_neurons, activation):\n",
    "        self.operations = []\n",
    "        self.n_neurons = n_neurons\n",
    "        self.activation = activation\n",
    "        self.new = True\n",
    "        self.grads = {}\n",
    "\n",
    "    def initialize_layer(self, X):\n",
    "        \"\"\"\n",
    "        Do inicjalizacji wag połączeń W oraz wartości polaryzacji B wymagane jest podanie macierzy danych X\n",
    "         (na jej podstawie wnioskowane są wymiary macierzy wag i wektora polaryzacji).\n",
    "        :param X: macierz danych wejściowych\n",
    "        :return: None\n",
    "        \"\"\"\n",
    "        weightsMultiplication = WeightsMultiplication(np.random.randn(X.shape[1], self.n_neurons))\n",
    "        addBiases = AddBias(np.zeros((1, self.n_neurons)))\n",
    "        self.operations = [weightsMultiplication, addBiases, self.activation]\n",
    "\n",
    "    def forward(self, X):\n",
    "        \"\"\"\n",
    "        Obliczenie wyjścia warstwy.\n",
    "        :param X: dane na wejściu warstwy\n",
    "        :return: wyście warstwy\n",
    "        \"\"\"\n",
    "        if self.new:\n",
    "            self.initialize_layer(X)\n",
    "            self.new = False\n",
    "\n",
    "        self.X = X\n",
    "        output = X\n",
    "        for operation in self.operations:\n",
    "            output = operation.forward(output)\n",
    "\n",
    "        self.output = output\n",
    "\n",
    "        return self.output\n",
    "\n",
    "    def backward(self, output_grad):\n",
    "        \"\"\"\n",
    "        Krok w tył w propagacji wstecz gradientu funkcji straty.\n",
    "        :param output_grad: gradient funkcji straty podany z następnej warstwy sieci\n",
    "        :return: gradient funkcji straty względem danych wejściowych warstwy\n",
    "        \"\"\"\n",
    "        X_grad = output_grad\n",
    "\n",
    "        for operation in reversed(self.operations[2:]):\n",
    "            X_grad = operation.backward(X_grad)\n",
    "\n",
    "\n",
    "        X_grad, B_grad = self.operations[1].backward(X_grad)\n",
    "        X_grad, W_grad = self.operations[0].backward(X_grad)\n",
    "\n",
    "        self.grads['X'] = X_grad\n",
    "        self.grads['W'] = W_grad\n",
    "        self.grads['B'] = B_grad\n",
    "\n",
    "        return self.grads['X']\n",
    "\n"
   ]
  },
  {
   "cell_type": "markdown",
   "id": "52471221",
   "metadata": {
    "pycharm": {
     "name": "#%% md\n"
    }
   },
   "source": [
    "### Klasa reprezentująca warstwę wyjściową sieci z funkcją straty CE (entropii krzyżowej) wraz z funkcją softmax"
   ]
  },
  {
   "cell_type": "code",
   "execution_count": 47,
   "id": "34dd287c",
   "metadata": {
    "collapsed": false,
    "jupyter": {
     "outputs_hidden": false
    },
    "pycharm": {
     "name": "#%%\n"
    }
   },
   "outputs": [],
   "source": [
    "def softmax1D(x):\n",
    "    return np.exp(x) / (np.exp(x)).sum()\n",
    "\n",
    "\n",
    "def softmax(X, axis = 1):\n",
    "    return np.apply_along_axis(softmax1D, axis, X)\n",
    "\n",
    "\n",
    "class OutputCrossEntropy:\n",
    "    \"\"\"\n",
    "    Warstwa wyjściowa sieci wraz funkcją softmax oraz funkcją straty entropii krzyżowej.\n",
    "    \"\"\"\n",
    "    def __init__(self, eps=1e-7):\n",
    "        \"\"\"\n",
    "        Inicjalizacja obiekut klasy CrossEntropy.\n",
    "        :param eps: wartość ograniczająca zakres wartości predykcji do (eps; 1.0-eps) w celu zapobiegnięciu wystąpieniu\n",
    "         ekstremalnie małych (bliskich 0.0) wartości w argumencie logarytmu\n",
    "        \"\"\"\n",
    "        self.eps = eps\n",
    "\n",
    "    def predict(self, v):\n",
    "        \"\"\"\n",
    "        Wyznaczenie prawdopodobieństw przynależności danej obserwacji do poszczególnych\n",
    "        klas z wykorzystaniem funkcji softmax.\n",
    "        :param v: wyjście ostatniej warstwy ukrytej sieci\n",
    "        :return: predykcje przynależności obserwacji do danej klasy w postaci wektora prawdopodobieństw\n",
    "        \"\"\"\n",
    "        # np.clip ogranicza wartości zwracane przez funkcję softmax, aby zapobiec występowaniu wartości ekstremalnie\n",
    "        # bliskich 0.0 lub 1.0 (na potrzeby późniejszego użycia w log(y) lub log(1-y))\n",
    "        return np.clip(softmax(v), self.eps, 1.0-self.eps)\n",
    "\n",
    "    def forward(self, v, d):\n",
    "        \"\"\"\n",
    "        Zastosowanie funkcji softmax do predykcji sieci + wyliczenie wartości funkcji straty.\n",
    "        Wartość funkcji etropii krzyżowej obliczana jest oddzielnie dla każdej możliwej klasy danych.\n",
    "        Wyniki te są sumowane dla każdej z obserwacji (dla każdego rzędu macierzy danych),\n",
    "        a następnie wyciągana jest średnia wartość tej sumy.\n",
    "        (Pozwala to uniezależnić wartość\n",
    "        funkcji straty od liczebności jednocześnie przetwarzanych obserwacji).\n",
    "        :param v: wyjście ostatniej warstwy ukrytej sieci\n",
    "        :param d: pożądane wyjście sieci\n",
    "        :return: średnia wartość funkcji straty dla wprowadzonej macierzy danych\n",
    "        \"\"\"\n",
    "        self.y = self.predict(v)\n",
    "        self.d = d\n",
    "\n",
    "        check_same_shape(self.y, self.d)\n",
    "\n",
    "        # Najpierw suma w każdym rzędzie (czyli dla każdej obserwacji), następnie średnia z tych sum.\n",
    "        self.loss = (-self.d * np.log(self.y) - (1.0 - self.d) * np.log(1-self.y)).sum(axis=1).mean()\n",
    "\n",
    "        return self.loss\n",
    "\n",
    "\n",
    "    def backward(self):\n",
    "        \"\"\"\n",
    "        Obliczenie gradientu funkcji straty względem predykcji sieci (przed zastosowaniem softmaxu).\n",
    "        :return:\n",
    "        \"\"\"\n",
    "        return self.y - self.d"
   ]
  },
  {
   "cell_type": "markdown",
   "id": "f5856a6c",
   "metadata": {
    "pycharm": {
     "name": "#%% md\n"
    }
   },
   "source": [
    "### Klasa sieci neuronowej składającej się warstw"
   ]
  },
  {
   "cell_type": "code",
   "execution_count": 48,
   "id": "787a7b86",
   "metadata": {
    "collapsed": false,
    "jupyter": {
     "outputs_hidden": false
    },
    "pycharm": {
     "name": "#%%\n"
    }
   },
   "outputs": [],
   "source": [
    "class Sigmoid(Operation):\n",
    "    \"\"\"\n",
    "    Klasa reprezentująca funkcję aktywacji sigmoid (unipolarną).\n",
    "    \"\"\"\n",
    "    def calc_output(self):\n",
    "        return 1.0 / (1.0 - np.exp(self.X))\n",
    "\n",
    "    def calc_X_grad(self, output_grad):\n",
    "        return self.output * (1.0 - self.output)\n"
   ]
  },
  {
   "cell_type": "markdown",
   "id": "ff52a535",
   "metadata": {
    "pycharm": {
     "name": "#%% md\n"
    }
   },
   "source": [
    "### Kodowanie klas danych"
   ]
  },
  {
   "cell_type": "code",
   "execution_count": 49,
   "id": "e19c3e89",
   "metadata": {
    "collapsed": false,
    "jupyter": {
     "outputs_hidden": false
    },
    "pycharm": {
     "name": "#%%\n"
    }
   },
   "outputs": [],
   "source": [
    "def one_hot_encode(y):\n",
    "    \"\"\"\n",
    "    Kodowanie klas zbioru danych.\n",
    "    Na przykład dla 3 możliwych klas:\n",
    "    1 -> [1 0 0]\n",
    "    2 -> [0 1 0]\n",
    "    3 -> [0 0 1]\n",
    "    :param y: klasy (etykiety) danych\n",
    "    :return:\n",
    "    \"\"\"\n",
    "    n_classes = np.unique(y).size\n",
    "    y_encoded = np.zeros((y.size, n_classes))\n",
    "    for i in range(y.size):\n",
    "        y_encoded[i, y[i]-1] = 1\n",
    "\n",
    "    return y_encoded"
   ]
  },
  {
   "cell_type": "code",
   "execution_count": 50,
   "id": "437e693e",
   "metadata": {
    "collapsed": false,
    "jupyter": {
     "outputs_hidden": false
    },
    "pycharm": {
     "name": "#%%\n"
    }
   },
   "outputs": [],
   "source": [
    "X = data2_X_normalized.to_numpy() # konwersja z DataFrame na array\n",
    "y = one_hot_encode(data2_y.array)"
   ]
  },
  {
   "cell_type": "code",
   "execution_count": 51,
   "id": "076fe6bb",
   "metadata": {
    "pycharm": {
     "name": "#%%\n"
    }
   },
   "outputs": [],
   "source": [
    "def expspace(start, stop, n_epochs):\n",
    "    decay_coeff = (stop / start) ** (1 / n_epochs)\n",
    "    res = np.zeros(n_epochs)\n",
    "    res[0] = start\n",
    "    for i in range(1, n_epochs):\n",
    "        res[i] = res[i-1] * decay_coeff\n",
    "    return res"
   ]
  },
  {
   "cell_type": "code",
   "execution_count": 52,
   "id": "87d2bd4e",
   "metadata": {
    "pycharm": {
     "name": "#%%\n"
    }
   },
   "outputs": [],
   "source": [
    "plt.rc('axes', labelsize=16, titlesize=20)\n",
    "plt.rc('legend', fontsize=12)"
   ]
  },
  {
   "cell_type": "code",
   "execution_count": 53,
   "id": "945ad962",
   "metadata": {
    "pycharm": {
     "name": "#%%\n"
    }
   },
   "outputs": [
    {
     "data": {
      "image/png": "[encoded data removed]",
      "text/plain": [
       "<Figure size 720x576 with 1 Axes>"
      ]
     },
     "metadata": {
      "needs_background": "light"
     },
     "output_type": "display_data"
    }
   ],
   "source": [
    "a = 10000\n",
    "plt.figure(figsize=(10,8))\n",
    "plt.plot(np.arange(0,a), np.linspace(1,0.01,a),)\n",
    "plt.plot(np.arange(0, a), expspace(1,0.01,a))\n",
    "plt.xlabel(\"i\")\n",
    "plt.ylabel(r\"$\\eta(i)$\")\n",
    "plt.title(\"Linear vs exponential learning rate decay\")\n",
    "plt.legend([\"Linear decay\", \"Exponential decay\"]);"
   ]
  },
  {
   "cell_type": "markdown",
   "id": "3a400731",
   "metadata": {
    "pycharm": {
     "name": "#%% md\n"
    }
   },
   "source": []
  },
  {
   "cell_type": "code",
   "execution_count": 157,
   "id": "5ee79140",
   "metadata": {
    "collapsed": false,
    "jupyter": {
     "outputs_hidden": false
    },
    "pycharm": {
     "name": "#%%\n"
    }
   },
   "outputs": [],
   "source": [
    "class NeuralNetwork:\n",
    "    \"\"\"\n",
    "    Klasa reprezetująca sieć neuronową. Zaimplementowano mechanizm liniowego spadku\n",
    "    wartości współczynnika uczenia się wraz z kolejnymi iteracjami (epokami),\n",
    "    a także mechanizm uczenia się z bezwładnością.\n",
    "    \"\"\"\n",
    "    def __init__(self, layers, output_layer, start_learning_rate=0.1, stop_learning_rate=None, momentum=0.9, learning_rate_decay_type='linear'):\n",
    "        \"\"\"\n",
    "        Inicjalizacja sieci neuronowej.\n",
    "        :param layers: warstwy z jakich składa się sieć neuronowa (instancje klasy Layer)\n",
    "        :param output_layer: warstwa wyjściowa z funkcją straty służącą do pomiaru jakości\n",
    "        predykcji sieci\n",
    "        :param start_learning_rate: początkowy współczynnik uczenia się sieci\n",
    "        :param stop_learning_rate: finalny współczynnik uczenia się sieci, jeśli jest None\n",
    "        to współczynnik uczenia się sieci będzie stały i równy start_learning rate\n",
    "        :param momentum: współczynnik bezwładności sieci\n",
    "        :param learning_rate_decay_type: rodzaj spadku współczynnika uczenia się sieci (liniowy lub wykładniczy)\n",
    "        \"\"\"\n",
    "        self.layers = layers\n",
    "        self.output_layer = output_layer\n",
    "        self.start_learning_rate = start_learning_rate\n",
    "        self.stop_learning_rate = stop_learning_rate\n",
    "        self.momentum = momentum\n",
    "        self.new_forward = True\n",
    "        self.new_backward = True\n",
    "        if learning_rate_decay_type == 'linear':\n",
    "            self.lr_decay_function = np.linspace\n",
    "        elif learning_rate_decay_type == 'exponential':\n",
    "            self.lr_decay_function = expspace\n",
    "        else:\n",
    "            raise ValueError(f\"Invalid learning_rate_decay_type value. Valid values are: 'linear', 'exponential', got: {learning_rate_decay_type}\")\n",
    "\n",
    "        if self.stop_learning_rate is not None:\n",
    "            if stop_learning_rate > start_learning_rate:\n",
    "                raise ValueError(f\"stop_learning_rate must be lower than start_learning_rate, got: start_learning_rate={start_learning_rate} < stop_learning_rate={stop_learning_rate}\")\n",
    "\n",
    "    def forward(self, X, d):\n",
    "        \"\"\"\n",
    "        Przepuszczenie danych wejściowych X przez sieć \"w przód\".\n",
    "        :param X: macierz danych wejściowych\n",
    "        :param d: pożądane wyjścia sieci\n",
    "        :return: wyliczona wartość funkcji straty dla wprowadzonych danych\n",
    "        \"\"\"\n",
    "        self.X = X  #zapamietanie wejscia sieci\n",
    "        self.d = d #zapamietanie pożądanego wyjścia sieci\n",
    "\n",
    "        if self.new_forward:\n",
    "            # inicjalizacja każdej z warstw w sieci\n",
    "            for layer in self.layers:\n",
    "                layer.initialize_layer(X)\n",
    "            self.new_forward = False\n",
    "\n",
    "        v = X\n",
    "\n",
    "        for layer in self.layers:\n",
    "            v = layer.forward(v)\n",
    "\n",
    "        self.loss = self.output_layer.forward(v, self.d) # obliczenie wartości funkcji straty\n",
    "        self.y = self.output_layer.y # zapamietanie predykcji sieci\n",
    "\n",
    "        return self.loss\n",
    "\n",
    "    def backward(self):\n",
    "        \"\"\"\n",
    "        Propagacja gradientu funkcji straty wstecz wzdłuż warstw\n",
    "        sieci wraz z modyfikacją parametrów sieci zgodną z SGD.\n",
    "        :return: None\n",
    "        \"\"\"\n",
    "        grad = self.output_layer.backward()\n",
    "\n",
    "        for layer in reversed(self.layers):\n",
    "            grad = layer.backward(grad)\n",
    "\n",
    "            if self.new_backward:\n",
    "                # jeśli pierwsza iteracja to pomiń bezwładność\n",
    "                layer.operations[0].W -= self.learning_rate * layer.grads['W']\n",
    "                layer.operations[1].B -= self.learning_rate * layer.grads['B']\n",
    "\n",
    "            else:\n",
    "                layer.operations[0].W -=  (self.learning_rate * (1.0 - self.momentum) * layer.grads['W'] +\n",
    "                                           self.momentum * (layer.operations[0].W - layer.operations[0].W_prev))\n",
    "\n",
    "                layer.operations[1].B -=  (self.learning_rate *(1.0 - self.momentum) * layer.grads['B'] +\n",
    "                                          self.momentum * (layer.operations[1].B - layer.operations[1].B_prev))\n",
    "\n",
    "            layer.operations[0].W_prev = np.copy(layer.operations[0].W)\n",
    "            layer.operations[1].B_prev = np.copy(layer.operations[1].B)\n",
    "\n",
    "        if self.new_backward:\n",
    "            self.new_backward = False\n",
    "\n",
    "\n",
    "    def predict(self, X):\n",
    "        \"\"\"\n",
    "        Obliczenie predykcji sieci.\n",
    "        :param X: dane wejściowe, które chcemy sklasyfikować\n",
    "        :return: predykcje sieci dla danych X\n",
    "        \"\"\"\n",
    "        v = X\n",
    "        for layer in self.layers:\n",
    "            v = layer.forward(v)\n",
    "\n",
    "        y = self.output_layer.predict(v)\n",
    "\n",
    "        return y\n",
    "\n",
    "    def test(self, X_test, y_test):\n",
    "        \"\"\"\n",
    "        Obliczenie odsetka prawidłowej klasyfikacji danych wejściowych.\n",
    "        :param X_test: dane wejściowe, które podlegać będą klasyfikacji\n",
    "        :param y_test: pożądane wyjście sieci\n",
    "        :return: odsetek prawidłowej klasyfikacji danych wejściowych.\n",
    "        \"\"\"\n",
    "        predicts = self.predict(X_test)\n",
    "        score = np.equal(np.argmax(predicts, axis=1), np.argmax(y_test, axis=1)).sum() / y_test.shape[0]\n",
    "        return score\n",
    "\n",
    "    def train(self, X_train, y_train, X_test, y_test, epochs, batch_size, eval_every=10):\n",
    "        \"\"\"\n",
    "        Uczenie się sieci na podstawie danych treningowych.\n",
    "        :param X_train: zbiór danych wejściowych treningowych\n",
    "        :param y_train: pożądane wyjścia sieci dla zbioru treningowego\n",
    "        :param X_test: zbiór danych wejściowych testowych\n",
    "        :param y_test: pożądane wyjścia sieci dla zbioru testowego\n",
    "        :param epochs: liczba epok sieci (zadana liczba przejść przez cały zbiór danych treningowych)\n",
    "        :param batch_size: wielkość porcji danych treningowych podawanej na wejście sieci (liczba wierszy macierzy danych wejściowych)\n",
    "        :param eval_every: co ile epok sieć będzie testowana pod kątem trafności predykcji\n",
    "        :return:\n",
    "        \"\"\"\n",
    "        self.epochs = epochs + 1\n",
    "        self.eval_every = eval_every\n",
    "        self.train_loss_history = np.zeros(self.epochs)\n",
    "        self.test_loss_history = np.zeros(self.epochs//eval_every + 1)\n",
    "\n",
    "        if self.stop_learning_rate is not None:\n",
    "            # Obliczenie wartości współczynnika uczenia się w każdej iteracji, z liniowym lub wykładniczym spadkiem\n",
    "            self.learning_rates = self.lr_decay_function(self.start_learning_rate, self.stop_learning_rate, self.epochs)\n",
    "        else:\n",
    "            self.learning_rates = np.ones(self.epochs) * self.start_learning_rate\n",
    "\n",
    "        for epoch in range(self.epochs):\n",
    "            self.learning_rate = self.learning_rates[epoch]\n",
    "\n",
    "            for X_batch, y_batch in self.create_batch(X_train, y_train, batch_size):\n",
    "                self.forward(X_batch, y_batch)\n",
    "                self.backward()\n",
    "\n",
    "            self.train_loss_history[epoch] = self.loss\n",
    "\n",
    "            if epoch % eval_every == 0:\n",
    "                self.forward(X_test, y_test)\n",
    "                self.test_loss_history[epoch // eval_every] = self.loss\n",
    "                print(f\"Score after {epoch} epoch: {self.test(X_test, y_test):.2%}\")\n",
    "\n",
    "\n",
    "    def create_batch(self, X, y, batch_size):\n",
    "        \"\"\"\n",
    "        Generator.\n",
    "        Podział danych na porcje i wymieszanie (permutacja) danych.\n",
    "        :param X: macierz cech wejściowych\n",
    "        :param y: pożądana odpowiedź sieci\n",
    "        :param batch_size: wielkość porcji\n",
    "        :return:\n",
    "        \"\"\"\n",
    "        permutation_sequence = np.random.permutation(X.shape[0])\n",
    "        # wymieszanie danych (wektorów obserwacji)\n",
    "        X = X[permutation_sequence, :]\n",
    "        y = y[permutation_sequence, :]\n",
    "\n",
    "        for batch_start in range(0, X.shape[0]-batch_size, batch_size):\n",
    "            X_batch = X[batch_start:batch_start+batch_size, :]\n",
    "            y_batch = y[batch_start:batch_start+batch_size, :]\n",
    "\n",
    "            yield X_batch,  y_batch\n",
    "\n",
    "\n",
    "    def plot_errors(self):\n",
    "        \"\"\"\n",
    "        Rysowanie przebiegów funkcji błędu dla danych treningowych i dla danych testowych.\n",
    "        :return:\n",
    "        \"\"\"\n",
    "        plt.figure(figsize=(15,10))\n",
    "        plt.plot(np.arange(0, self.epochs), self.train_loss_history, 'r-')\n",
    "        plt.plot(np.arange(0, self.epochs, self.eval_every), self.test_loss_history, 'g-')\n",
    "        plt.legend([\"Przebieg błędu na danych treningowych\", \"Przebieg błędu na danych testowych\"])\n",
    "        plt.title(\"Przebieg błędu w funkcji epok\")\n",
    "        plt.xlabel(\"Epoka\")\n",
    "        plt.ylabel(\"Wartość funkcji błędu\");\n"
   ]
  },
  {
   "cell_type": "code",
   "execution_count": 158,
   "id": "00148e10",
   "metadata": {
    "collapsed": false,
    "jupyter": {
     "outputs_hidden": false
    },
    "pycharm": {
     "name": "#%%\n"
    }
   },
   "outputs": [],
   "source": [
    "from sklearn.model_selection import train_test_split"
   ]
  },
  {
   "cell_type": "markdown",
   "id": "31cee168",
   "metadata": {
    "pycharm": {
     "name": "#%% md\n"
    }
   },
   "source": [
    "### Podział na zbiór treningowy i testowy z zachowaniem proporcji udziału poszczególnych klas w zbiorze danych"
   ]
  },
  {
   "cell_type": "code",
   "execution_count": 56,
   "id": "0b793ff4",
   "metadata": {
    "collapsed": false,
    "jupyter": {
     "outputs_hidden": false
    },
    "pycharm": {
     "name": "#%%\n"
    }
   },
   "outputs": [],
   "source": [
    "# Podział zbioru danych na zbiór treningowy i testowy z zachowaniem proporcji udziału klas\n",
    "X_train, X_test, y_train, y_test = train_test_split(X, y, test_size=0.25, stratify=data2_y, random_state=seed)"
   ]
  },
  {
   "cell_type": "markdown",
   "id": "488010e0",
   "metadata": {
    "pycharm": {
     "name": "#%% md\n"
    }
   },
   "source": [
    "### Utworzenie obiektu sieci neuronowej i trening"
   ]
  },
  {
   "cell_type": "code",
   "execution_count": 57,
   "id": "09b6abd1",
   "metadata": {
    "pycharm": {
     "name": "#%%\n"
    }
   },
   "outputs": [],
   "source": [
    "class Linear(Operation):\n",
    "\n",
    "    def calc_output(self):\n",
    "        return self.X\n",
    "\n",
    "    def calc_X_grad(self, output_grad):\n",
    "        return output_grad"
   ]
  },
  {
   "cell_type": "code",
   "execution_count": 282,
   "id": "37f76ba0",
   "metadata": {
    "pycharm": {
     "name": "#%%\n"
    }
   },
   "outputs": [
    {
     "name": "stdout",
     "output_type": "stream",
     "text": [
      "Score after 0 epoch: 15.38%\n",
      "Score after 100 epoch: 65.38%\n",
      "Score after 200 epoch: 69.23%\n",
      "Score after 300 epoch: 80.77%\n",
      "Score after 400 epoch: 80.77%\n",
      "Score after 500 epoch: 80.77%\n",
      "Score after 600 epoch: 80.77%\n",
      "Score after 700 epoch: 80.77%\n",
      "Score after 800 epoch: 80.77%\n",
      "Score after 900 epoch: 80.77%\n",
      "Score after 1000 epoch: 80.77%\n"
     ]
    }
   ],
   "source": [
    "# Utworzenie obiektu sieci neuronowej złożonej z 1 warstwy ukrytej\n",
    "NN = NeuralNetwork(layers=[Layer(n_neurons=9, activation=Tanh()),\n",
    "                           Layer(n_neurons=6, activation=Linear())],\n",
    "                   output_layer=OutputCrossEntropy(),\n",
    "                   start_learning_rate=0.05,\n",
    "                   stop_learning_rate=0.005,\n",
    "                   momentum=0.9,\n",
    "                   learning_rate_decay_type='exponential')\n",
    "\n",
    "n_epochs = 1000\n",
    "eval_every = 100\n",
    "NN.train(X_train, y_train, X_test, y_test, n_epochs, 50, eval_every)"
   ]
  },
  {
   "cell_type": "markdown",
   "id": "1d88abfc",
   "metadata": {
    "pycharm": {
     "name": "#%% md\n"
    }
   },
   "source": [
    "#### Wykres przebiegu funkcji błędu"
   ]
  },
  {
   "cell_type": "code",
   "execution_count": 268,
   "id": "705626a8",
   "metadata": {
    "collapsed": false,
    "jupyter": {
     "outputs_hidden": false
    },
    "pycharm": {
     "name": "#%%\n"
    }
   },
   "outputs": [],
   "source": [
    "plt.rc('axes', labelsize=16, titlesize=20)\n",
    "plt.rc('legend', fontsize=12)"
   ]
  },
  {
   "cell_type": "code",
   "execution_count": 283,
   "id": "21ba66ea",
   "metadata": {
    "collapsed": false,
    "jupyter": {
     "outputs_hidden": false
    },
    "pycharm": {
     "name": "#%%\n"
    }
   },
   "outputs": [
    {
     "data": {
      "image/png": "[encoded data removed]",
      "text/plain": [
       "<Figure size 1080x720 with 1 Axes>"
      ]
     },
     "metadata": {
      "needs_background": "light"
     },
     "output_type": "display_data"
    }
   ],
   "source": [
    "NN.plot_errors()"
   ]
  },
  {
   "cell_type": "code",
   "execution_count": 284,
   "id": "16ca7fa6",
   "metadata": {
    "collapsed": false,
    "jupyter": {
     "outputs_hidden": false
    },
    "pycharm": {
     "name": "#%%\n"
    }
   },
   "outputs": [],
   "source": [
    "def make_accuracy_table():\n",
    "    return pd.DataFrame({\"Dokładność\": [np.round(NN.test(X_train, y_train), 2), np.round(NN.test(X_test, y_test), 2)]}, index=['Dane treningowe', 'Dane testowe'])"
   ]
  },
  {
   "cell_type": "code",
   "execution_count": 285,
   "id": "6da66090",
   "metadata": {
    "collapsed": false,
    "jupyter": {
     "outputs_hidden": false
    },
    "pycharm": {
     "name": "#%%\n"
    }
   },
   "outputs": [
    {
     "data": {
      "text/html": [
       "<div>\n",
       "<style scoped>\n",
       "    .dataframe tbody tr th:only-of-type {\n",
       "        vertical-align: middle;\n",
       "    }\n",
       "\n",
       "    .dataframe tbody tr th {\n",
       "        vertical-align: top;\n",
       "    }\n",
       "\n",
       "    .dataframe thead th {\n",
       "        text-align: right;\n",
       "    }\n",
       "</style>\n",
       "<table border=\"1\" class=\"dataframe\">\n",
       "  <thead>\n",
       "    <tr style=\"text-align: right;\">\n",
       "      <th></th>\n",
       "      <th>Dokładność</th>\n",
       "    </tr>\n",
       "  </thead>\n",
       "  <tbody>\n",
       "    <tr>\n",
       "      <th>Dane treningowe</th>\n",
       "      <td>0.78</td>\n",
       "    </tr>\n",
       "    <tr>\n",
       "      <th>Dane testowe</th>\n",
       "      <td>0.81</td>\n",
       "    </tr>\n",
       "  </tbody>\n",
       "</table>\n",
       "</div>"
      ],
      "text/plain": [
       "                 Dokładność\n",
       "Dane treningowe        0.78\n",
       "Dane testowe           0.81"
      ]
     },
     "execution_count": 285,
     "metadata": {},
     "output_type": "execute_result"
    }
   ],
   "source": [
    "make_accuracy_table()"
   ]
  },
  {
   "cell_type": "code",
   "execution_count": 286,
   "id": "2fb8cae5",
   "metadata": {
    "collapsed": false,
    "jupyter": {
     "outputs_hidden": false
    },
    "pycharm": {
     "name": "#%%\n"
    }
   },
   "outputs": [],
   "source": [
    "diagnoses_test = pd.DataFrame({\"diagnose\": np.argmax(NN.predict(X_test), axis=1) + 1,\n",
    "                               \"real\": (np.argmax(y_test, axis=1) + 1)}).replace({v: k for k, v in classes_dict.items()})\n",
    "\n",
    "diagnoses_train = pd.DataFrame({\"diagnose\": np.argmax(NN.predict(X_train), axis=1) + 1,\n",
    "                                \"real\": (np.argmax(y_train, axis=1) + 1)}).replace({v: k for k, v in classes_dict.items()})\n",
    "\n",
    "def calc_sensitivity(label):\n",
    "    true_positive_train = diagnoses_train[(diagnoses_train == label).all(axis=1)].shape[0]\n",
    "    n_label_train = diagnoses_train[diagnoses_train['real'] == label].shape[0]\n",
    "    sensitivity_train = true_positive_train / n_label_train\n",
    "\n",
    "    true_positive_test = diagnoses_test[(diagnoses_test == label).all(axis=1)].shape[0]\n",
    "    n_label_test = diagnoses_test[diagnoses_test['real'] == label].shape[0]\n",
    "    sensitivity_test = true_positive_test / n_label_test\n",
    "\n",
    "    # print(f\"Czułość metody diagnozowania dla klasy '{label}' na danych treningowych: {sensitivity_train:.2f}\")\n",
    "    # print(f\"Czułość metody diagnozowania dla klasy '{label}' na danych testowych: {sensitivity_test:.2f}\")\n",
    "\n",
    "    return sensitivity_train, sensitivity_test\n",
    "\n",
    "def calc_specificity(label):\n",
    "\n",
    "    true_negative_train = diagnoses_train[(diagnoses_train != label).all(axis=1)].shape[0]\n",
    "    n_nonlabel_train = diagnoses_train[diagnoses_train['real'] != label].shape[0]\n",
    "    specificity_train = true_negative_train / n_nonlabel_train\n",
    "\n",
    "    true_negative_test = diagnoses_test[(diagnoses_test != label).all(axis=1)].shape[0]\n",
    "    n_nonlabel_test = diagnoses_test[diagnoses_test['real'] != label].shape[0]\n",
    "    specificity_test = true_negative_test / n_nonlabel_test\n",
    "\n",
    "    # print(f\"Specyficzność metody diagnozowania dla klasy '{label}' na danych treningowych: {specificity_train:.2f}\")\n",
    "    # print(f\"Specyficzność metody diagnozowania dla klasy '{label}' na danych testowych: {specificity_test:.2f}\")\n",
    "\n",
    "    return specificity_train, specificity_test\n",
    "\n",
    "def make_sens_spec_table(label):\n",
    "    sens_train, sens_test = calc_sensitivity(label)\n",
    "    spec_train, spec_test = calc_specificity(label)\n",
    "    return pd.DataFrame({\"Czułość\": [sens_train, sens_test], \"Specyficzność\": [spec_train, spec_test]}, index=['Dane treningowe', 'Dane testowe'])\n",
    "\n",
    "def make_sens_spec_multitable():\n",
    "    labels = ['car', 'adi', 'con', 'gla', 'mas', 'fad']\n",
    "    data_set = ['Dane treningowe', 'Dane testowe']\n",
    "    d = {label : {'Czułość': calc_sensitivity(label), 'Specyficzność': calc_specificity(label)} for label in labels}\n",
    "    reform = {(outerKey, innerKey): values for outerKey, innerDict in d.items() for innerKey, values in innerDict.items()}\n",
    "    return pd.DataFrame(reform, index=['Dane treningowe', 'Dane testowe']).transpose().round(2)\n"
   ]
  },
  {
   "cell_type": "code",
   "execution_count": 287,
   "id": "87f096e0",
   "metadata": {
    "collapsed": false,
    "jupyter": {
     "outputs_hidden": false
    },
    "pycharm": {
     "name": "#%%\n"
    }
   },
   "outputs": [
    {
     "data": {
      "text/html": [
       "<div>\n",
       "<style scoped>\n",
       "    .dataframe tbody tr th:only-of-type {\n",
       "        vertical-align: middle;\n",
       "    }\n",
       "\n",
       "    .dataframe tbody tr th {\n",
       "        vertical-align: top;\n",
       "    }\n",
       "\n",
       "    .dataframe thead th {\n",
       "        text-align: right;\n",
       "    }\n",
       "</style>\n",
       "<table border=\"1\" class=\"dataframe\">\n",
       "  <thead>\n",
       "    <tr style=\"text-align: right;\">\n",
       "      <th></th>\n",
       "      <th></th>\n",
       "      <th>Dane treningowe</th>\n",
       "      <th>Dane testowe</th>\n",
       "    </tr>\n",
       "  </thead>\n",
       "  <tbody>\n",
       "    <tr>\n",
       "      <th rowspan=\"2\" valign=\"top\">car</th>\n",
       "      <th>Czułość</th>\n",
       "      <td>0.94</td>\n",
       "      <td>0.80</td>\n",
       "    </tr>\n",
       "    <tr>\n",
       "      <th>Specyficzność</th>\n",
       "      <td>0.97</td>\n",
       "      <td>0.95</td>\n",
       "    </tr>\n",
       "    <tr>\n",
       "      <th rowspan=\"2\" valign=\"top\">adi</th>\n",
       "      <th>Czułość</th>\n",
       "      <td>1.00</td>\n",
       "      <td>1.00</td>\n",
       "    </tr>\n",
       "    <tr>\n",
       "      <th>Specyficzność</th>\n",
       "      <td>0.98</td>\n",
       "      <td>1.00</td>\n",
       "    </tr>\n",
       "    <tr>\n",
       "      <th rowspan=\"2\" valign=\"top\">con</th>\n",
       "      <th>Czułość</th>\n",
       "      <td>0.90</td>\n",
       "      <td>1.00</td>\n",
       "    </tr>\n",
       "    <tr>\n",
       "      <th>Specyficzność</th>\n",
       "      <td>1.00</td>\n",
       "      <td>1.00</td>\n",
       "    </tr>\n",
       "    <tr>\n",
       "      <th rowspan=\"2\" valign=\"top\">gla</th>\n",
       "      <th>Czułość</th>\n",
       "      <td>0.73</td>\n",
       "      <td>0.75</td>\n",
       "    </tr>\n",
       "    <tr>\n",
       "      <th>Specyficzność</th>\n",
       "      <td>0.94</td>\n",
       "      <td>0.95</td>\n",
       "    </tr>\n",
       "    <tr>\n",
       "      <th rowspan=\"2\" valign=\"top\">mas</th>\n",
       "      <th>Czułość</th>\n",
       "      <td>0.57</td>\n",
       "      <td>0.50</td>\n",
       "    </tr>\n",
       "    <tr>\n",
       "      <th>Specyficzność</th>\n",
       "      <td>0.91</td>\n",
       "      <td>0.95</td>\n",
       "    </tr>\n",
       "    <tr>\n",
       "      <th rowspan=\"2\" valign=\"top\">fad</th>\n",
       "      <th>Czułość</th>\n",
       "      <td>0.45</td>\n",
       "      <td>0.75</td>\n",
       "    </tr>\n",
       "    <tr>\n",
       "      <th>Specyficzność</th>\n",
       "      <td>0.94</td>\n",
       "      <td>0.91</td>\n",
       "    </tr>\n",
       "  </tbody>\n",
       "</table>\n",
       "</div>"
      ],
      "text/plain": [
       "                   Dane treningowe  Dane testowe\n",
       "car Czułość                   0.94          0.80\n",
       "    Specyficzność             0.97          0.95\n",
       "adi Czułość                   1.00          1.00\n",
       "    Specyficzność             0.98          1.00\n",
       "con Czułość                   0.90          1.00\n",
       "    Specyficzność             1.00          1.00\n",
       "gla Czułość                   0.73          0.75\n",
       "    Specyficzność             0.94          0.95\n",
       "mas Czułość                   0.57          0.50\n",
       "    Specyficzność             0.91          0.95\n",
       "fad Czułość                   0.45          0.75\n",
       "    Specyficzność             0.94          0.91"
      ]
     },
     "execution_count": 287,
     "metadata": {},
     "output_type": "execute_result"
    }
   ],
   "source": [
    "r = make_sens_spec_multitable()\n",
    "r"
   ]
  },
  {
   "cell_type": "code",
   "execution_count": 223,
   "id": "beda991c",
   "metadata": {
    "collapsed": false,
    "jupyter": {
     "outputs_hidden": false
    },
    "pycharm": {
     "name": "#%%\n"
    }
   },
   "outputs": [
    {
     "data": {
      "text/html": [
       "<div>\n",
       "<style scoped>\n",
       "    .dataframe tbody tr th:only-of-type {\n",
       "        vertical-align: middle;\n",
       "    }\n",
       "\n",
       "    .dataframe tbody tr th {\n",
       "        vertical-align: top;\n",
       "    }\n",
       "\n",
       "    .dataframe thead th {\n",
       "        text-align: right;\n",
       "    }\n",
       "</style>\n",
       "<table border=\"1\" class=\"dataframe\">\n",
       "  <thead>\n",
       "    <tr style=\"text-align: right;\">\n",
       "      <th></th>\n",
       "      <th>Czułość</th>\n",
       "      <th>Specyficzność</th>\n",
       "    </tr>\n",
       "  </thead>\n",
       "  <tbody>\n",
       "    <tr>\n",
       "      <th>Dane treningowe</th>\n",
       "      <td>1.0</td>\n",
       "      <td>0.983871</td>\n",
       "    </tr>\n",
       "    <tr>\n",
       "      <th>Dane testowe</th>\n",
       "      <td>1.0</td>\n",
       "      <td>1.000000</td>\n",
       "    </tr>\n",
       "  </tbody>\n",
       "</table>\n",
       "</div>"
      ],
      "text/plain": [
       "                 Czułość  Specyficzność\n",
       "Dane treningowe      1.0       0.983871\n",
       "Dane testowe         1.0       1.000000"
      ]
     },
     "execution_count": 223,
     "metadata": {},
     "output_type": "execute_result"
    }
   ],
   "source": [
    "make_sens_spec_table('adi')"
   ]
  },
  {
   "cell_type": "markdown",
   "id": "2d382082",
   "metadata": {
    "pycharm": {
     "name": "#%% md\n"
    }
   },
   "source": [
    "#### Użyteczność metody diagnostycznej dla klasy 'fad' (gruczolakowłókniak)"
   ]
  },
  {
   "cell_type": "code",
   "execution_count": null,
   "id": "7de489b4",
   "metadata": {
    "pycharm": {
     "name": "#%%\n"
    }
   },
   "outputs": [
    {
     "data": {
      "text/html": [
       "<div>\n",
       "<style scoped>\n",
       "    .dataframe tbody tr th:only-of-type {\n",
       "        vertical-align: middle;\n",
       "    }\n",
       "\n",
       "    .dataframe tbody tr th {\n",
       "        vertical-align: top;\n",
       "    }\n",
       "\n",
       "    .dataframe thead th {\n",
       "        text-align: right;\n",
       "    }\n",
       "</style>\n",
       "<table border=\"1\" class=\"dataframe\">\n",
       "  <thead>\n",
       "    <tr style=\"text-align: right;\">\n",
       "      <th></th>\n",
       "      <th>diagnose</th>\n",
       "      <th>real</th>\n",
       "    </tr>\n",
       "  </thead>\n",
       "  <tbody>\n",
       "    <tr>\n",
       "      <th>7</th>\n",
       "      <td>mas</td>\n",
       "      <td>gla</td>\n",
       "    </tr>\n",
       "    <tr>\n",
       "      <th>9</th>\n",
       "      <td>gla</td>\n",
       "      <td>gla</td>\n",
       "    </tr>\n",
       "    <tr>\n",
       "      <th>19</th>\n",
       "      <td>gla</td>\n",
       "      <td>gla</td>\n",
       "    </tr>\n",
       "    <tr>\n",
       "      <th>26</th>\n",
       "      <td>gla</td>\n",
       "      <td>gla</td>\n",
       "    </tr>\n",
       "    <tr>\n",
       "      <th>33</th>\n",
       "      <td>gla</td>\n",
       "      <td>gla</td>\n",
       "    </tr>\n",
       "    <tr>\n",
       "      <th>39</th>\n",
       "      <td>gla</td>\n",
       "      <td>gla</td>\n",
       "    </tr>\n",
       "    <tr>\n",
       "      <th>40</th>\n",
       "      <td>fad</td>\n",
       "      <td>gla</td>\n",
       "    </tr>\n",
       "    <tr>\n",
       "      <th>41</th>\n",
       "      <td>gla</td>\n",
       "      <td>gla</td>\n",
       "    </tr>\n",
       "    <tr>\n",
       "      <th>58</th>\n",
       "      <td>gla</td>\n",
       "      <td>gla</td>\n",
       "    </tr>\n",
       "    <tr>\n",
       "      <th>60</th>\n",
       "      <td>gla</td>\n",
       "      <td>gla</td>\n",
       "    </tr>\n",
       "    <tr>\n",
       "      <th>73</th>\n",
       "      <td>gla</td>\n",
       "      <td>gla</td>\n",
       "    </tr>\n",
       "  </tbody>\n",
       "</table>\n",
       "</div>"
      ],
      "text/plain": [
       "   diagnose real\n",
       "7       mas  gla\n",
       "9       gla  gla\n",
       "19      gla  gla\n",
       "26      gla  gla\n",
       "33      gla  gla\n",
       "39      gla  gla\n",
       "40      fad  gla\n",
       "41      gla  gla\n",
       "58      gla  gla\n",
       "60      gla  gla\n",
       "73      gla  gla"
      ]
     },
     "execution_count": 71,
     "metadata": {},
     "output_type": "execute_result"
    }
   ],
   "source": [
    "diagnoses_train[diagnoses_train['real'] == 'gla']"
   ]
  },
  {
   "cell_type": "code",
   "execution_count": 72,
   "id": "3714f643",
   "metadata": {
    "pycharm": {
     "name": "#%%\n"
    }
   },
   "outputs": [
    {
     "data": {
      "text/html": [
       "<div>\n",
       "<style scoped>\n",
       "    .dataframe tbody tr th:only-of-type {\n",
       "        vertical-align: middle;\n",
       "    }\n",
       "\n",
       "    .dataframe tbody tr th {\n",
       "        vertical-align: top;\n",
       "    }\n",
       "\n",
       "    .dataframe thead th {\n",
       "        text-align: right;\n",
       "    }\n",
       "</style>\n",
       "<table border=\"1\" class=\"dataframe\">\n",
       "  <thead>\n",
       "    <tr style=\"text-align: right;\">\n",
       "      <th></th>\n",
       "      <th>diagnose</th>\n",
       "      <th>real</th>\n",
       "    </tr>\n",
       "  </thead>\n",
       "  <tbody>\n",
       "    <tr>\n",
       "      <th>14</th>\n",
       "      <td>fad</td>\n",
       "      <td>fad</td>\n",
       "    </tr>\n",
       "    <tr>\n",
       "      <th>16</th>\n",
       "      <td>mas</td>\n",
       "      <td>fad</td>\n",
       "    </tr>\n",
       "    <tr>\n",
       "      <th>27</th>\n",
       "      <td>mas</td>\n",
       "      <td>fad</td>\n",
       "    </tr>\n",
       "    <tr>\n",
       "      <th>32</th>\n",
       "      <td>gla</td>\n",
       "      <td>fad</td>\n",
       "    </tr>\n",
       "    <tr>\n",
       "      <th>42</th>\n",
       "      <td>fad</td>\n",
       "      <td>fad</td>\n",
       "    </tr>\n",
       "    <tr>\n",
       "      <th>49</th>\n",
       "      <td>fad</td>\n",
       "      <td>fad</td>\n",
       "    </tr>\n",
       "    <tr>\n",
       "      <th>53</th>\n",
       "      <td>fad</td>\n",
       "      <td>fad</td>\n",
       "    </tr>\n",
       "    <tr>\n",
       "      <th>62</th>\n",
       "      <td>gla</td>\n",
       "      <td>fad</td>\n",
       "    </tr>\n",
       "    <tr>\n",
       "      <th>66</th>\n",
       "      <td>mas</td>\n",
       "      <td>fad</td>\n",
       "    </tr>\n",
       "    <tr>\n",
       "      <th>72</th>\n",
       "      <td>mas</td>\n",
       "      <td>fad</td>\n",
       "    </tr>\n",
       "    <tr>\n",
       "      <th>74</th>\n",
       "      <td>gla</td>\n",
       "      <td>fad</td>\n",
       "    </tr>\n",
       "  </tbody>\n",
       "</table>\n",
       "</div>"
      ],
      "text/plain": [
       "   diagnose real\n",
       "14      fad  fad\n",
       "16      mas  fad\n",
       "27      mas  fad\n",
       "32      gla  fad\n",
       "42      fad  fad\n",
       "49      fad  fad\n",
       "53      fad  fad\n",
       "62      gla  fad\n",
       "66      mas  fad\n",
       "72      mas  fad\n",
       "74      gla  fad"
      ]
     },
     "execution_count": 72,
     "metadata": {},
     "output_type": "execute_result"
    }
   ],
   "source": [
    "diagnoses_train[diagnoses_train['real'] == 'fad']"
   ]
  },
  {
   "cell_type": "code",
   "execution_count": null,
   "id": "a7b0dd98",
   "metadata": {
    "pycharm": {
     "name": "#%%\n"
    }
   },
   "outputs": [],
   "source": []
  }
 ],
 "metadata": {
  "kernelspec": {
   "display_name": "Python 3 (ipykernel)",
   "language": "python",
   "name": "python3"
  },
  "language_info": {
   "codemirror_mode": {
    "name": "ipython",
    "version": 3
   },
   "file_extension": ".py",
   "mimetype": "text/x-python",
   "name": "python",
   "nbconvert_exporter": "python",
   "pygments_lexer": "ipython3",
   "version": "3.9.5"
  }
 },
 "nbformat": 4,
 "nbformat_minor": 5
}